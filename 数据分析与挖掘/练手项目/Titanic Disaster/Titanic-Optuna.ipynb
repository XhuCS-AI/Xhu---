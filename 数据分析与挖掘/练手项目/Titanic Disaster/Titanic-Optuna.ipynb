{
 "cells": [
  {
   "cell_type": "code",
   "execution_count": 1,
   "metadata": {},
   "outputs": [],
   "source": [
    "# 在这个文档中，我们将使用Optuna库来优化我们的模型。\n",
    "import optuna\n",
    "import numpy as np\n",
    "import pandas as pd\n",
    "from sklearn.model_selection import StratifiedKFold\n",
    "from sklearn.metrics import roc_auc_score\n",
    "from sklearn.impute import KNNImputer\n",
    "from xgboost import XGBClassifier"
   ]
  },
  {
   "cell_type": "code",
   "execution_count": 2,
   "metadata": {},
   "outputs": [],
   "source": [
    "SEED = 42"
   ]
  },
  {
   "cell_type": "markdown",
   "metadata": {},
   "source": [
    "数据预处理部分和 baseline 采用一样的方案"
   ]
  },
  {
   "cell_type": "code",
   "execution_count": 3,
   "metadata": {},
   "outputs": [],
   "source": [
    "def DataPreprocessing(df):\n",
    "    # 异常值处理\n",
    "    df['Fare'] = np.where(df['Fare']<7.5, np.nan, df['Fare'])\n",
    "        \n",
    "    # 特征丢弃\n",
    "    df.drop(columns=['Cabin','PassengerId','Name','Ticket'],inplace=True)\n",
    "    \n",
    "    # 特征编码\n",
    "    genders = {'male': 0, 'female': 1}\n",
    "    start_pos = {'S': 0, 'C': 1, 'Q': 2}\n",
    "    df['Sex'] = df['Sex'].map(genders)\n",
    "    df['Embarked'] = df['Embarked'].map(start_pos)\n",
    "    \n",
    "    # 缺失值处理\n",
    "    df['Fare'] = df.groupby('Pclass')['Fare'].transform(lambda x: x.fillna(x.mean()))\n",
    "\n",
    "    df['Embarked'] = df['Embarked'].fillna(df['Embarked'].mode()[0])\n",
    "    \n",
    "    imputer = KNNImputer(n_neighbors=5)\n",
    "    df['Age'] = imputer.fit_transform(df[['Age']])\n",
    "    \n",
    "    # 特征构造\n",
    "    df['family'] = df['SibSp'] + df['Parch']\n",
    "    return df"
   ]
  },
  {
   "cell_type": "code",
   "execution_count": 4,
   "metadata": {},
   "outputs": [],
   "source": [
    "train = pd.read_csv('data/train.csv')\n",
    "test = pd.read_csv('data/test.csv')\n",
    "train = DataPreprocessing(train)\n",
    "test = DataPreprocessing(test)"
   ]
  },
  {
   "cell_type": "markdown",
   "metadata": {},
   "source": [
    "这里下面我们将使用 Optuna 来优化我们的 XGBoost 模型。\n",
    "\n",
    "并在最后，我们会与没有使用优化参数的 XGBoost 模型进行比较。"
   ]
  },
  {
   "cell_type": "code",
   "execution_count": 5,
   "metadata": {},
   "outputs": [],
   "source": [
    "def n_cross_validata(model, data, skf):\n",
    "    X = data.drop(columns=['Survived'])\n",
    "    y = data['Survived']\n",
    "    \n",
    "    score = []\n",
    "    \n",
    "    for train_index, test_index in skf.split(X, y):\n",
    "        X_train, X_test = X.iloc[train_index], X.iloc[test_index]\n",
    "        y_train, y_test = y.iloc[train_index], y.iloc[test_index]\n",
    "        model.fit(X_train, y_train)\n",
    "        y_pred = model.predict_proba(X_test)[:, 1]\n",
    "        score.append(roc_auc_score(y_test, y_pred))\n",
    "    \n",
    "    return np.mean(score)\n",
    "\n",
    "def CV_Objective(trial, data, skf):\n",
    "    params = {\n",
    "        'objective': trial.suggest_categorical('objective', ['reg:tweedie', 'reg:pseudohubererror']),\n",
    "        'random_state': SEED,\n",
    "        'num_parallel_tree': trial.suggest_int('num_parallel_tree', 2, 30),\n",
    "        'n_estimators': trial.suggest_int('n_estimators', 100, 300),\n",
    "        'max_depth': trial.suggest_int('max_depth', 2, 4),\n",
    "        'learning_rate': trial.suggest_float('learning_rate', 0.02, 0.05, log=True),\n",
    "        'subsample': trial.suggest_float('subsample', 0.5, 0.8),\n",
    "        'colsample_bytree': trial.suggest_float('colsample_bytree', 0.5, 0.8),\n",
    "        'reg_alpha': trial.suggest_float('reg_alpha', 1e-5, 1e-1, log=True),\n",
    "        'reg_lambda': trial.suggest_float('reg_lambda', 1e-5, 1e-1, log=True),\n",
    "    }\n",
    "\n",
    "    model = XGBClassifier(**params)\n",
    "    score = n_cross_validata(model,data, skf)\n",
    "    \n",
    "    return score\n",
    "    \n",
    "    \n",
    "def RunOptimization(data):\n",
    "    study = optuna.create_study(direction='maximize')\n",
    "    skf = StratifiedKFold(n_splits=3, shuffle=True, random_state=SEED)\n",
    "    study.optimize(lambda trial: CV_Objective(trial, data, skf), n_trials=100)\n",
    "    \n",
    "    print(f\"Best parameters: {study.best_params}\")\n",
    "    print(f\"Best score: {study.best_value}\")\n",
    "    return study.best_params"
   ]
  },
  {
   "cell_type": "code",
   "execution_count": 6,
   "metadata": {},
   "outputs": [
    {
     "name": "stderr",
     "output_type": "stream",
     "text": [
      "[I 2025-01-16 20:06:51,512] A new study created in memory with name: no-name-65ca657a-9810-43ee-ae5c-caae7ac442b1\n",
      "[I 2025-01-16 20:06:56,682] Trial 0 finished with value: 0.8705141724986419 and parameters: {'objective': 'reg:pseudohubererror', 'num_parallel_tree': 25, 'n_estimators': 237, 'max_depth': 4, 'learning_rate': 0.04855523615460717, 'subsample': 0.7933290260290711, 'colsample_bytree': 0.6635975047485981, 'reg_alpha': 0.014674387959879173, 'reg_lambda': 0.02455411962734914}. Best is trial 0 with value: 0.8705141724986419.\n",
      "[I 2025-01-16 20:07:00,312] Trial 1 finished with value: 0.8722717540664048 and parameters: {'objective': 'reg:pseudohubererror', 'num_parallel_tree': 23, 'n_estimators': 221, 'max_depth': 4, 'learning_rate': 0.036072019675830465, 'subsample': 0.6687323157197322, 'colsample_bytree': 0.7254904421827106, 'reg_alpha': 0.00012822218372933531, 'reg_lambda': 0.00241332353281404}. Best is trial 1 with value: 0.8722717540664048.\n",
      "[I 2025-01-16 20:07:04,964] Trial 2 finished with value: 0.8697632058287795 and parameters: {'objective': 'reg:pseudohubererror', 'num_parallel_tree': 24, 'n_estimators': 284, 'max_depth': 2, 'learning_rate': 0.03156058576717109, 'subsample': 0.6850656475108029, 'colsample_bytree': 0.6378414535196002, 'reg_alpha': 8.585418144133306e-05, 'reg_lambda': 1.5379758664353158e-05}. Best is trial 1 with value: 0.8722717540664048.\n",
      "[I 2025-01-16 20:07:05,852] Trial 3 finished with value: 0.8673345476624165 and parameters: {'objective': 'reg:tweedie', 'num_parallel_tree': 2, 'n_estimators': 220, 'max_depth': 3, 'learning_rate': 0.031175924725431074, 'subsample': 0.7636374186314033, 'colsample_bytree': 0.6060996825563836, 'reg_alpha': 0.008609228688465146, 'reg_lambda': 0.07668887058061459}. Best is trial 1 with value: 0.8722717540664048.\n",
      "[I 2025-01-16 20:07:16,078] Trial 4 finished with value: 0.8735499952065956 and parameters: {'objective': 'reg:pseudohubererror', 'num_parallel_tree': 27, 'n_estimators': 294, 'max_depth': 3, 'learning_rate': 0.029245204839690044, 'subsample': 0.6621338341809639, 'colsample_bytree': 0.6055111992673764, 'reg_alpha': 0.0006524476867516545, 'reg_lambda': 4.4961421907173415e-05}. Best is trial 4 with value: 0.8735499952065956.\n",
      "[I 2025-01-16 20:07:17,356] Trial 5 finished with value: 0.8714089412967757 and parameters: {'objective': 'reg:pseudohubererror', 'num_parallel_tree': 6, 'n_estimators': 290, 'max_depth': 4, 'learning_rate': 0.02484957150746481, 'subsample': 0.7837545108848779, 'colsample_bytree': 0.7316023646540433, 'reg_alpha': 4.373957514391421e-05, 'reg_lambda': 0.001444769571386804}. Best is trial 4 with value: 0.8735499952065956.\n",
      "[I 2025-01-16 20:07:19,446] Trial 6 finished with value: 0.8590100022369219 and parameters: {'objective': 'reg:tweedie', 'num_parallel_tree': 16, 'n_estimators': 197, 'max_depth': 4, 'learning_rate': 0.0459555363047878, 'subsample': 0.6198404792354105, 'colsample_bytree': 0.5121301323316118, 'reg_alpha': 9.719069038851313e-05, 'reg_lambda': 0.06911329719872045}. Best is trial 4 with value: 0.8735499952065956.\n",
      "[I 2025-01-16 20:07:24,675] Trial 7 finished with value: 0.8677979100757359 and parameters: {'objective': 'reg:tweedie', 'num_parallel_tree': 23, 'n_estimators': 108, 'max_depth': 4, 'learning_rate': 0.02543428888427781, 'subsample': 0.5647609679588116, 'colsample_bytree': 0.5133769401338233, 'reg_alpha': 0.033290826369760516, 'reg_lambda': 0.0019586543469778082}. Best is trial 4 with value: 0.8735499952065956.\n",
      "[I 2025-01-16 20:07:25,680] Trial 8 finished with value: 0.8729108746365002 and parameters: {'objective': 'reg:pseudohubererror', 'num_parallel_tree': 2, 'n_estimators': 274, 'max_depth': 3, 'learning_rate': 0.020233670318358217, 'subsample': 0.5380553059806241, 'colsample_bytree': 0.7258498102217922, 'reg_alpha': 0.012808728132926668, 'reg_lambda': 0.022649603657421996}. Best is trial 4 with value: 0.8735499952065956.\n",
      "[I 2025-01-16 20:07:34,136] Trial 9 finished with value: 0.8742849838622057 and parameters: {'objective': 'reg:pseudohubererror', 'num_parallel_tree': 26, 'n_estimators': 195, 'max_depth': 4, 'learning_rate': 0.02694451721319404, 'subsample': 0.5766206592303931, 'colsample_bytree': 0.7390240310624288, 'reg_alpha': 0.002632418689051949, 'reg_lambda': 0.011329180613022294}. Best is trial 9 with value: 0.8742849838622057.\n",
      "[I 2025-01-16 20:07:36,930] Trial 10 finished with value: 0.8561659156999967 and parameters: {'objective': 'reg:tweedie', 'num_parallel_tree': 17, 'n_estimators': 143, 'max_depth': 2, 'learning_rate': 0.03844033845384789, 'subsample': 0.5930898933519546, 'colsample_bytree': 0.7882039979776463, 'reg_alpha': 0.0013003735896386804, 'reg_lambda': 0.00019702507982930908}. Best is trial 9 with value: 0.8742849838622057.\n",
      "[I 2025-01-16 20:07:44,987] Trial 11 finished with value: 0.8716166554820566 and parameters: {'objective': 'reg:pseudohubererror', 'num_parallel_tree': 30, 'n_estimators': 177, 'max_depth': 3, 'learning_rate': 0.02612418506832611, 'subsample': 0.7118207593631388, 'colsample_bytree': 0.5738539905293778, 'reg_alpha': 0.0009922456167796854, 'reg_lambda': 3.395851055088844e-05}. Best is trial 9 with value: 0.8742849838622057.\n",
      "[I 2025-01-16 20:07:52,292] Trial 12 finished with value: 0.872207842009395 and parameters: {'objective': 'reg:pseudohubererror', 'num_parallel_tree': 30, 'n_estimators': 160, 'max_depth': 3, 'learning_rate': 0.028476112734468078, 'subsample': 0.6255999079265803, 'colsample_bytree': 0.6801867439467206, 'reg_alpha': 0.000915570797563621, 'reg_lambda': 0.00015668008676874824}. Best is trial 9 with value: 0.8742849838622057.\n",
      "[I 2025-01-16 20:07:57,026] Trial 13 finished with value: 0.8703543923561181 and parameters: {'objective': 'reg:pseudohubererror', 'num_parallel_tree': 17, 'n_estimators': 258, 'max_depth': 2, 'learning_rate': 0.02096680685628993, 'subsample': 0.5055884838225266, 'colsample_bytree': 0.7925540576494639, 'reg_alpha': 0.002351107114598739, 'reg_lambda': 0.008809497904760313}. Best is trial 9 with value: 0.8742849838622057.\n",
      "[I 2025-01-16 20:08:00,589] Trial 14 finished with value: 0.8727191384654714 and parameters: {'objective': 'reg:pseudohubererror', 'num_parallel_tree': 12, 'n_estimators': 191, 'max_depth': 3, 'learning_rate': 0.035963248148743424, 'subsample': 0.7255383075272528, 'colsample_bytree': 0.5727405073986986, 'reg_alpha': 1.0959136436561033e-05, 'reg_lambda': 0.0004028738207993576}. Best is trial 9 with value: 0.8742849838622057.\n",
      "[I 2025-01-16 20:08:10,417] Trial 15 finished with value: 0.8725753363372001 and parameters: {'objective': 'reg:pseudohubererror', 'num_parallel_tree': 26, 'n_estimators': 248, 'max_depth': 3, 'learning_rate': 0.023619107854398615, 'subsample': 0.6332204177090581, 'colsample_bytree': 0.6964071041681015, 'reg_alpha': 0.0003758195236653887, 'reg_lambda': 5.309115860746578e-05}. Best is trial 9 with value: 0.8742849838622057.\n",
      "[I 2025-01-16 20:08:16,093] Trial 16 finished with value: 0.8742849838622057 and parameters: {'objective': 'reg:pseudohubererror', 'num_parallel_tree': 20, 'n_estimators': 142, 'max_depth': 4, 'learning_rate': 0.02858521252660444, 'subsample': 0.5726934767263934, 'colsample_bytree': 0.6230978874308065, 'reg_alpha': 0.004158243264934708, 'reg_lambda': 0.008787988147179784}. Best is trial 9 with value: 0.8742849838622057.\n",
      "[I 2025-01-16 20:08:21,081] Trial 17 finished with value: 0.8745885661330011 and parameters: {'objective': 'reg:pseudohubererror', 'num_parallel_tree': 20, 'n_estimators': 126, 'max_depth': 4, 'learning_rate': 0.022650152996224582, 'subsample': 0.5816284132565331, 'colsample_bytree': 0.6316223238702022, 'reg_alpha': 0.005835661108607652, 'reg_lambda': 0.00597315041949272}. Best is trial 17 with value: 0.8745885661330011.\n",
      "[I 2025-01-16 20:08:23,796] Trial 18 finished with value: 0.867478349790688 and parameters: {'objective': 'reg:tweedie', 'num_parallel_tree': 12, 'n_estimators': 111, 'max_depth': 4, 'learning_rate': 0.022634115369834555, 'subsample': 0.5259352517361696, 'colsample_bytree': 0.764288169749145, 'reg_alpha': 0.07092513726177088, 'reg_lambda': 0.005147689700188632}. Best is trial 17 with value: 0.8745885661330011.\n",
      "[I 2025-01-16 20:08:28,863] Trial 19 finished with value: 0.8743169398907104 and parameters: {'objective': 'reg:pseudohubererror', 'num_parallel_tree': 20, 'n_estimators': 129, 'max_depth': 4, 'learning_rate': 0.02332249924581396, 'subsample': 0.5958857487768946, 'colsample_bytree': 0.6971573555732794, 'reg_alpha': 0.004286537273436705, 'reg_lambda': 0.0005042422728674974}. Best is trial 17 with value: 0.8745885661330011.\n",
      "[I 2025-01-16 20:08:33,772] Trial 20 finished with value: 0.8749400824465536 and parameters: {'objective': 'reg:pseudohubererror', 'num_parallel_tree': 20, 'n_estimators': 127, 'max_depth': 4, 'learning_rate': 0.022389987488683774, 'subsample': 0.6050360674184043, 'colsample_bytree': 0.6920134479757967, 'reg_alpha': 0.005686886806386211, 'reg_lambda': 0.0006259195981653103}. Best is trial 20 with value: 0.8749400824465536.\n",
      "[I 2025-01-16 20:08:38,814] Trial 21 finished with value: 0.8746524781900105 and parameters: {'objective': 'reg:pseudohubererror', 'num_parallel_tree': 20, 'n_estimators': 128, 'max_depth': 4, 'learning_rate': 0.02232156726326322, 'subsample': 0.6007996851043474, 'colsample_bytree': 0.6870165061991701, 'reg_alpha': 0.0054910240404705424, 'reg_lambda': 0.0005575621460744728}. Best is trial 20 with value: 0.8749400824465536.\n",
      "[I 2025-01-16 20:08:42,875] Trial 22 finished with value: 0.8734701051353339 and parameters: {'objective': 'reg:pseudohubererror', 'num_parallel_tree': 20, 'n_estimators': 100, 'max_depth': 4, 'learning_rate': 0.021898459408024464, 'subsample': 0.6091564956847811, 'colsample_bytree': 0.6552177654604004, 'reg_alpha': 0.02904255147051138, 'reg_lambda': 0.0005918165096581363}. Best is trial 20 with value: 0.8749400824465536.\n",
      "[I 2025-01-16 20:08:46,288] Trial 23 finished with value: 0.8750679065605725 and parameters: {'objective': 'reg:pseudohubererror', 'num_parallel_tree': 13, 'n_estimators': 129, 'max_depth': 4, 'learning_rate': 0.020127288839408206, 'subsample': 0.553131523844878, 'colsample_bytree': 0.6863133393806228, 'reg_alpha': 0.007148421745571789, 'reg_lambda': 0.0038673223032439784}. Best is trial 23 with value: 0.8750679065605725.\n",
      "[I 2025-01-16 20:08:50,244] Trial 24 finished with value: 0.8749560604608059 and parameters: {'objective': 'reg:pseudohubererror', 'num_parallel_tree': 12, 'n_estimators': 162, 'max_depth': 4, 'learning_rate': 0.02004144668774117, 'subsample': 0.5365122234531384, 'colsample_bytree': 0.6969946500339492, 'reg_alpha': 0.09942021319097996, 'reg_lambda': 0.00018385488151900648}. Best is trial 23 with value: 0.8750679065605725.\n",
      "[I 2025-01-16 20:08:53,893] Trial 25 finished with value: 0.8737097753491195 and parameters: {'objective': 'reg:pseudohubererror', 'num_parallel_tree': 11, 'n_estimators': 163, 'max_depth': 4, 'learning_rate': 0.020089470264533674, 'subsample': 0.5508955600775362, 'colsample_bytree': 0.7542044553052168, 'reg_alpha': 0.0904245165965914, 'reg_lambda': 0.00016039838342636126}. Best is trial 23 with value: 0.8750679065605725.\n",
      "[I 2025-01-16 20:08:56,754] Trial 26 finished with value: 0.8679257341897548 and parameters: {'objective': 'reg:tweedie', 'num_parallel_tree': 9, 'n_estimators': 158, 'max_depth': 4, 'learning_rate': 0.020983350274315686, 'subsample': 0.5094385365120591, 'colsample_bytree': 0.7065593335569786, 'reg_alpha': 0.033065764219103774, 'reg_lambda': 0.0009928252102061014}. Best is trial 23 with value: 0.8750679065605725.\n",
      "[I 2025-01-16 20:09:00,657] Trial 27 finished with value: 0.8720640398811236 and parameters: {'objective': 'reg:pseudohubererror', 'num_parallel_tree': 14, 'n_estimators': 177, 'max_depth': 3, 'learning_rate': 0.02404862382472441, 'subsample': 0.5484075223984936, 'colsample_bytree': 0.6708201936416133, 'reg_alpha': 0.022896643731386748, 'reg_lambda': 0.0033665457556753347}. Best is trial 23 with value: 0.8750679065605725.\n",
      "[I 2025-01-16 20:09:03,038] Trial 28 finished with value: 0.8747163902470202 and parameters: {'objective': 'reg:pseudohubererror', 'num_parallel_tree': 8, 'n_estimators': 143, 'max_depth': 4, 'learning_rate': 0.020016104761538225, 'subsample': 0.5593928946799342, 'colsample_bytree': 0.7075476807659737, 'reg_alpha': 0.06534698736902826, 'reg_lambda': 0.00020164933582213654}. Best is trial 23 with value: 0.8750679065605725.\n",
      "[I 2025-01-16 20:09:06,513] Trial 29 finished with value: 0.8733263030070623 and parameters: {'objective': 'reg:pseudohubererror', 'num_parallel_tree': 15, 'n_estimators': 117, 'max_depth': 4, 'learning_rate': 0.04826349372208487, 'subsample': 0.5215929315163428, 'colsample_bytree': 0.6638083188606159, 'reg_alpha': 0.014486694385455048, 'reg_lambda': 6.877518908111134e-05}. Best is trial 23 with value: 0.8750679065605725.\n",
      "[I 2025-01-16 20:09:08,341] Trial 30 finished with value: 0.8734381491068289 and parameters: {'objective': 'reg:pseudohubererror', 'num_parallel_tree': 5, 'n_estimators': 172, 'max_depth': 4, 'learning_rate': 0.021400337528189792, 'subsample': 0.6412323227307263, 'colsample_bytree': 0.7612907176176149, 'reg_alpha': 0.05037789071032544, 'reg_lambda': 0.0009830539658858685}. Best is trial 23 with value: 0.8750679065605725.\n",
      "[I 2025-01-16 20:09:11,074] Trial 31 finished with value: 0.8746684562042629 and parameters: {'objective': 'reg:pseudohubererror', 'num_parallel_tree': 9, 'n_estimators': 146, 'max_depth': 4, 'learning_rate': 0.020016952881311605, 'subsample': 0.5595176925446221, 'colsample_bytree': 0.7134431251828685, 'reg_alpha': 0.09402682910690673, 'reg_lambda': 0.0002655451003695353}. Best is trial 23 with value: 0.8750679065605725.\n",
      "[I 2025-01-16 20:09:13,424] Trial 32 finished with value: 0.8740453136484199 and parameters: {'objective': 'reg:pseudohubererror', 'num_parallel_tree': 8, 'n_estimators': 145, 'max_depth': 4, 'learning_rate': 0.021480951222417142, 'subsample': 0.5408844288003458, 'colsample_bytree': 0.7115090527138291, 'reg_alpha': 0.018287123080805292, 'reg_lambda': 8.39986814407754e-05}. Best is trial 23 with value: 0.8750679065605725.\n",
      "[I 2025-01-16 20:09:17,107] Trial 33 finished with value: 0.8747004122327677 and parameters: {'objective': 'reg:pseudohubererror', 'num_parallel_tree': 14, 'n_estimators': 134, 'max_depth': 4, 'learning_rate': 0.02003158494039231, 'subsample': 0.5305115565140434, 'colsample_bytree': 0.6776319280513179, 'reg_alpha': 0.048925074146062716, 'reg_lambda': 2.2303332027567214e-05}. Best is trial 23 with value: 0.8750679065605725.\n",
      "[I 2025-01-16 20:09:21,909] Trial 34 finished with value: 0.8749241044323011 and parameters: {'objective': 'reg:pseudohubererror', 'num_parallel_tree': 11, 'n_estimators': 219, 'max_depth': 4, 'learning_rate': 0.024502491041991984, 'subsample': 0.5818287226113047, 'colsample_bytree': 0.6487693017205012, 'reg_alpha': 0.0002571755098405584, 'reg_lambda': 0.00010814946613060644}. Best is trial 23 with value: 0.8750679065605725.\n",
      "[I 2025-01-16 20:09:26,586] Trial 35 finished with value: 0.8734860831495862 and parameters: {'objective': 'reg:pseudohubererror', 'num_parallel_tree': 11, 'n_estimators': 214, 'max_depth': 4, 'learning_rate': 0.024288480981734535, 'subsample': 0.6570525299701708, 'colsample_bytree': 0.6444886300142196, 'reg_alpha': 0.00014210004681388847, 'reg_lambda': 0.00011489248276041381}. Best is trial 23 with value: 0.8750679065605725.\n",
      "[I 2025-01-16 20:09:31,212] Trial 36 finished with value: 0.8736298852778578 and parameters: {'objective': 'reg:pseudohubererror', 'num_parallel_tree': 13, 'n_estimators': 227, 'max_depth': 3, 'learning_rate': 0.034382324615028576, 'subsample': 0.6768863438062079, 'colsample_bytree': 0.6151835577322518, 'reg_alpha': 0.0002709767113519583, 'reg_lambda': 0.00030451329266858405}. Best is trial 23 with value: 0.8750679065605725.\n",
      "[I 2025-01-16 20:09:33,668] Trial 37 finished with value: 0.8638353625411433 and parameters: {'objective': 'reg:tweedie', 'num_parallel_tree': 5, 'n_estimators': 237, 'max_depth': 4, 'learning_rate': 0.026291402482424855, 'subsample': 0.5815794415624065, 'colsample_bytree': 0.5865999057039897, 'reg_alpha': 4.51916191737451e-05, 'reg_lambda': 0.0012704815055961762}. Best is trial 23 with value: 0.8750679065605725.\n",
      "[I 2025-01-16 20:09:40,735] Trial 38 finished with value: 0.8744447640047296 and parameters: {'objective': 'reg:pseudohubererror', 'num_parallel_tree': 17, 'n_estimators': 212, 'max_depth': 4, 'learning_rate': 0.023028487914452837, 'subsample': 0.6090899460076133, 'colsample_bytree': 0.6551707145754108, 'reg_alpha': 0.008970600607854921, 'reg_lambda': 0.0031028067796504376}. Best is trial 23 with value: 0.8750679065605725.\n",
      "[I 2025-01-16 20:09:45,789] Trial 39 finished with value: 0.8736937973348672 and parameters: {'objective': 'reg:pseudohubererror', 'num_parallel_tree': 18, 'n_estimators': 185, 'max_depth': 3, 'learning_rate': 0.04252568705725016, 'subsample': 0.5859767291805515, 'colsample_bytree': 0.7400377986992048, 'reg_alpha': 0.000442550787434071, 'reg_lambda': 0.0007160992675870986}. Best is trial 23 with value: 0.8750679065605725.\n",
      "[I 2025-01-16 20:09:50,654] Trial 40 finished with value: 0.8564694979707923 and parameters: {'objective': 'reg:tweedie', 'num_parallel_tree': 22, 'n_estimators': 204, 'max_depth': 2, 'learning_rate': 0.024705546717476698, 'subsample': 0.614224518172666, 'colsample_bytree': 0.6401399973786323, 'reg_alpha': 0.0020588405532596696, 'reg_lambda': 0.0019538723679569914}. Best is trial 23 with value: 0.8750679065605725.\n",
      "[I 2025-01-16 20:09:52,914] Trial 41 finished with value: 0.8749081264180486 and parameters: {'objective': 'reg:pseudohubererror', 'num_parallel_tree': 7, 'n_estimators': 155, 'max_depth': 4, 'learning_rate': 0.02100009729461935, 'subsample': 0.5630244300291103, 'colsample_bytree': 0.6901938844760483, 'reg_alpha': 0.048305878776417586, 'reg_lambda': 0.00010355923593035297}. Best is trial 23 with value: 0.8750679065605725.\n",
      "[I 2025-01-16 20:09:56,031] Trial 42 finished with value: 0.8750199725178155 and parameters: {'objective': 'reg:pseudohubererror', 'num_parallel_tree': 10, 'n_estimators': 155, 'max_depth': 4, 'learning_rate': 0.021206692857997, 'subsample': 0.5676951475565197, 'colsample_bytree': 0.6898429963996475, 'reg_alpha': 0.0002097452807832873, 'reg_lambda': 3.3177804788108196e-05}. Best is trial 23 with value: 0.8750679065605725.\n",
      "[I 2025-01-16 20:09:58,474] Trial 43 finished with value: 0.8743968299619723 and parameters: {'objective': 'reg:pseudohubererror', 'num_parallel_tree': 10, 'n_estimators': 121, 'max_depth': 4, 'learning_rate': 0.02205750718505272, 'subsample': 0.5448761603364181, 'colsample_bytree': 0.6694912376079749, 'reg_alpha': 0.00019234567684190952, 'reg_lambda': 1.089470520759652e-05}. Best is trial 23 with value: 0.8750679065605725.\n",
      "[I 2025-01-16 20:10:03,395] Trial 44 finished with value: 0.8745725881187486 and parameters: {'objective': 'reg:pseudohubererror', 'num_parallel_tree': 15, 'n_estimators': 166, 'max_depth': 4, 'learning_rate': 0.030421500171663753, 'subsample': 0.5199293937834958, 'colsample_bytree': 0.7253055533350738, 'reg_alpha': 5.7513892376568077e-05, 'reg_lambda': 2.9706782147716518e-05}. Best is trial 23 with value: 0.8750679065605725.\n",
      "[I 2025-01-16 20:10:06,904] Trial 45 finished with value: 0.8756271370594062 and parameters: {'objective': 'reg:pseudohubererror', 'num_parallel_tree': 13, 'n_estimators': 134, 'max_depth': 4, 'learning_rate': 0.02762921809307925, 'subsample': 0.5717245909480005, 'colsample_bytree': 0.6575099522093429, 'reg_alpha': 0.0006622983500584512, 'reg_lambda': 5.5154154708973626e-05}. Best is trial 45 with value: 0.8756271370594062.\n",
      "[I 2025-01-16 20:10:10,347] Trial 46 finished with value: 0.874253027833701 and parameters: {'objective': 'reg:pseudohubererror', 'num_parallel_tree': 13, 'n_estimators': 134, 'max_depth': 4, 'learning_rate': 0.03199622564581478, 'subsample': 0.5011691892294738, 'colsample_bytree': 0.6808658726761139, 'reg_alpha': 0.0015787490792723237, 'reg_lambda': 1.6647894020864594e-05}. Best is trial 45 with value: 0.8756271370594062.\n",
      "[I 2025-01-16 20:10:15,698] Trial 47 finished with value: 0.87545137890263 and parameters: {'objective': 'reg:pseudohubererror', 'num_parallel_tree': 18, 'n_estimators': 152, 'max_depth': 4, 'learning_rate': 0.02739686117356908, 'subsample': 0.5687289064041039, 'colsample_bytree': 0.7285184729399079, 'reg_alpha': 0.0005431958651014565, 'reg_lambda': 3.842747689316188e-05}. Best is trial 45 with value: 0.8756271370594062.\n",
      "[I 2025-01-16 20:10:19,940] Trial 48 finished with value: 0.8653213178666155 and parameters: {'objective': 'reg:tweedie', 'num_parallel_tree': 18, 'n_estimators': 152, 'max_depth': 3, 'learning_rate': 0.02722137563441884, 'subsample': 0.5680797470243975, 'colsample_bytree': 0.7231419548540344, 'reg_alpha': 0.0006453375528616849, 'reg_lambda': 4.361930565474887e-05}. Best is trial 45 with value: 0.8756271370594062.\n",
      "[I 2025-01-16 20:10:25,547] Trial 49 finished with value: 0.8736937973348672 and parameters: {'objective': 'reg:pseudohubererror', 'num_parallel_tree': 15, 'n_estimators': 185, 'max_depth': 4, 'learning_rate': 0.03254453775075836, 'subsample': 0.6979708261840053, 'colsample_bytree': 0.7487783181736091, 'reg_alpha': 0.0006690263682031409, 'reg_lambda': 0.02384096677074971}. Best is trial 45 with value: 0.8756271370594062.\n",
      "[I 2025-01-16 20:10:28,989] Trial 50 finished with value: 0.8718403476815902 and parameters: {'objective': 'reg:pseudohubererror', 'num_parallel_tree': 13, 'n_estimators': 170, 'max_depth': 3, 'learning_rate': 0.030067476490719183, 'subsample': 0.7536400879747593, 'colsample_bytree': 0.780245418353709, 'reg_alpha': 0.0001309118766983682, 'reg_lambda': 2.7396773437365016e-05}. Best is trial 45 with value: 0.8756271370594062.\n",
      "[I 2025-01-16 20:10:33,890] Trial 51 finished with value: 0.874173137762439 and parameters: {'objective': 'reg:pseudohubererror', 'num_parallel_tree': 22, 'n_estimators': 115, 'max_depth': 4, 'learning_rate': 0.027652438256860385, 'subsample': 0.5957029800645868, 'colsample_bytree': 0.6967815724212089, 'reg_alpha': 0.0005072083184816165, 'reg_lambda': 0.046857536345863406}. Best is trial 45 with value: 0.8756271370594062.\n",
      "[I 2025-01-16 20:10:37,080] Trial 52 finished with value: 0.874300961876458 and parameters: {'objective': 'reg:pseudohubererror', 'num_parallel_tree': 16, 'n_estimators': 101, 'max_depth': 4, 'learning_rate': 0.025296109730674986, 'subsample': 0.5339427454317659, 'colsample_bytree': 0.7350848939597787, 'reg_alpha': 0.0010530261557869568, 'reg_lambda': 5.0864329184121496e-05}. Best is trial 45 with value: 0.8756271370594062.\n",
      "[I 2025-01-16 20:10:41,976] Trial 53 finished with value: 0.8740772696769246 and parameters: {'objective': 'reg:pseudohubererror', 'num_parallel_tree': 18, 'n_estimators': 135, 'max_depth': 4, 'learning_rate': 0.020822034423388747, 'subsample': 0.5505928424253174, 'colsample_bytree': 0.7197299957896485, 'reg_alpha': 0.00304442615437643, 'reg_lambda': 6.665807742796994e-05}. Best is trial 45 with value: 0.8756271370594062.\n",
      "[I 2025-01-16 20:10:49,237] Trial 54 finished with value: 0.8755152909596396 and parameters: {'objective': 'reg:pseudohubererror', 'num_parallel_tree': 24, 'n_estimators': 151, 'max_depth': 4, 'learning_rate': 0.023453489441476173, 'subsample': 0.5731483523078109, 'colsample_bytree': 0.6968806160547311, 'reg_alpha': 0.010135709685479933, 'reg_lambda': 2.3095994279248135e-05}. Best is trial 45 with value: 0.8756271370594062.\n",
      "[I 2025-01-16 20:10:57,497] Trial 55 finished with value: 0.8748921484037964 and parameters: {'objective': 'reg:pseudohubererror', 'num_parallel_tree': 28, 'n_estimators': 151, 'max_depth': 4, 'learning_rate': 0.023507235452797905, 'subsample': 0.5139460393061784, 'colsample_bytree': 0.7003479513960689, 'reg_alpha': 0.00836448459925049, 'reg_lambda': 1.502694944607916e-05}. Best is trial 45 with value: 0.8756271370594062.\n",
      "[I 2025-01-16 20:11:05,176] Trial 56 finished with value: 0.8750039945035631 and parameters: {'objective': 'reg:pseudohubererror', 'num_parallel_tree': 28, 'n_estimators': 137, 'max_depth': 4, 'learning_rate': 0.02595840708256264, 'subsample': 0.5572308713618582, 'colsample_bytree': 0.6803148430879751, 'reg_alpha': 2.22054873119283e-05, 'reg_lambda': 3.5877467507114566e-05}. Best is trial 45 with value: 0.8756271370594062.\n",
      "[I 2025-01-16 20:11:11,812] Trial 57 finished with value: 0.8758668072731921 and parameters: {'objective': 'reg:pseudohubererror', 'num_parallel_tree': 24, 'n_estimators': 139, 'max_depth': 4, 'learning_rate': 0.02609594270148191, 'subsample': 0.5714449224135616, 'colsample_bytree': 0.6268168880192944, 'reg_alpha': 1.8079814960874132e-05, 'reg_lambda': 2.1281492568946106e-05}. Best is trial 57 with value: 0.8758668072731921.\n",
      "[I 2025-01-16 20:11:17,715] Trial 58 finished with value: 0.8735819512351005 and parameters: {'objective': 'reg:pseudohubererror', 'num_parallel_tree': 25, 'n_estimators': 121, 'max_depth': 4, 'learning_rate': 0.028206879442710837, 'subsample': 0.628899431620134, 'colsample_bytree': 0.6027439647266429, 'reg_alpha': 1.3183122397882603e-05, 'reg_lambda': 1.965502954579605e-05}. Best is trial 57 with value: 0.8758668072731921.\n",
      "[I 2025-01-16 20:11:24,728] Trial 59 finished with value: 0.867686063975969 and parameters: {'objective': 'reg:tweedie', 'num_parallel_tree': 24, 'n_estimators': 150, 'max_depth': 4, 'learning_rate': 0.02637182196645497, 'subsample': 0.5728950405395649, 'colsample_bytree': 0.6313509891995657, 'reg_alpha': 2.646108877353243e-05, 'reg_lambda': 1.1570056663239663e-05}. Best is trial 57 with value: 0.8758668072731921.\n",
      "[I 2025-01-16 20:11:28,095] Trial 60 finished with value: 0.8676221519189595 and parameters: {'objective': 'reg:pseudohubererror', 'num_parallel_tree': 22, 'n_estimators': 140, 'max_depth': 2, 'learning_rate': 0.029150108899224238, 'subsample': 0.6433854277207153, 'colsample_bytree': 0.547733353294284, 'reg_alpha': 0.0013682935789251901, 'reg_lambda': 2.4115990083653875e-05}. Best is trial 57 with value: 0.8758668072731921.\n",
      "[I 2025-01-16 20:11:35,443] Trial 61 finished with value: 0.8747803023040297 and parameters: {'objective': 'reg:pseudohubererror', 'num_parallel_tree': 28, 'n_estimators': 133, 'max_depth': 4, 'learning_rate': 0.025645252079568172, 'subsample': 0.5579741241113193, 'colsample_bytree': 0.6601739718307388, 'reg_alpha': 2.107661982922409e-05, 'reg_lambda': 3.8497847585297494e-05}. Best is trial 57 with value: 0.8758668072731921.\n",
      "[I 2025-01-16 20:11:41,594] Trial 62 finished with value: 0.8751318186175823 and parameters: {'objective': 'reg:pseudohubererror', 'num_parallel_tree': 29, 'n_estimators': 107, 'max_depth': 4, 'learning_rate': 0.02675843644179684, 'subsample': 0.5923957154337415, 'colsample_bytree': 0.6756259254120687, 'reg_alpha': 6.998316424143137e-05, 'reg_lambda': 3.699713308039365e-05}. Best is trial 57 with value: 0.8758668072731921.\n",
      "[I 2025-01-16 20:11:48,734] Trial 63 finished with value: 0.8752117086888441 and parameters: {'objective': 'reg:pseudohubererror', 'num_parallel_tree': 30, 'n_estimators': 123, 'max_depth': 4, 'learning_rate': 0.02760956594507442, 'subsample': 0.5855465793353147, 'colsample_bytree': 0.6656636676950142, 'reg_alpha': 0.0002963310302879936, 'reg_lambda': 1.550647288775654e-05}. Best is trial 57 with value: 0.8758668072731921.\n",
      "[I 2025-01-16 20:11:55,202] Trial 64 finished with value: 0.8745725881187486 and parameters: {'objective': 'reg:pseudohubererror', 'num_parallel_tree': 30, 'n_estimators': 109, 'max_depth': 4, 'learning_rate': 0.027390516130589536, 'subsample': 0.5888080600343839, 'colsample_bytree': 0.6281601792370332, 'reg_alpha': 0.00032865976809915847, 'reg_lambda': 1.563505186967792e-05}. Best is trial 57 with value: 0.8758668072731921.\n",
      "[I 2025-01-16 20:12:02,072] Trial 65 finished with value: 0.8746045441472535 and parameters: {'objective': 'reg:pseudohubererror', 'num_parallel_tree': 29, 'n_estimators': 122, 'max_depth': 4, 'learning_rate': 0.0303075973826868, 'subsample': 0.6211289120163452, 'colsample_bytree': 0.6696021564130276, 'reg_alpha': 8.89111244106205e-05, 'reg_lambda': 6.300043223139404e-05}. Best is trial 57 with value: 0.8758668072731921.\n",
      "[I 2025-01-16 20:12:07,430] Trial 66 finished with value: 0.8731345668360336 and parameters: {'objective': 'reg:pseudohubererror', 'num_parallel_tree': 26, 'n_estimators': 104, 'max_depth': 4, 'learning_rate': 0.02930771601225456, 'subsample': 0.6002817724642987, 'colsample_bytree': 0.6172247423688554, 'reg_alpha': 7.166336836145541e-05, 'reg_lambda': 1.045184891736604e-05}. Best is trial 57 with value: 0.8758668072731921.\n",
      "[I 2025-01-16 20:12:13,430] Trial 67 finished with value: 0.8746844342185153 and parameters: {'objective': 'reg:pseudohubererror', 'num_parallel_tree': 27, 'n_estimators': 113, 'max_depth': 4, 'learning_rate': 0.026660244859942596, 'subsample': 0.5760682162720077, 'colsample_bytree': 0.6526332526301138, 'reg_alpha': 0.0006913678434461116, 'reg_lambda': 0.016079682950800506}. Best is trial 57 with value: 0.8758668072731921.\n",
      "[I 2025-01-16 20:12:19,412] Trial 68 finished with value: 0.8744128079762247 and parameters: {'objective': 'reg:pseudohubererror', 'num_parallel_tree': 24, 'n_estimators': 127, 'max_depth': 4, 'learning_rate': 0.025118186190583227, 'subsample': 0.5909163469658117, 'colsample_bytree': 0.6016729521452353, 'reg_alpha': 3.9985452392202534e-05, 'reg_lambda': 2.0219743124505417e-05}. Best is trial 57 with value: 0.8758668072731921.\n",
      "[I 2025-01-16 20:12:32,866] Trial 69 finished with value: 0.8731665228645383 and parameters: {'objective': 'reg:pseudohubererror', 'num_parallel_tree': 25, 'n_estimators': 277, 'max_depth': 4, 'learning_rate': 0.027868768308299652, 'subsample': 0.5756499824501572, 'colsample_bytree': 0.6370691668561985, 'reg_alpha': 0.010124936696460815, 'reg_lambda': 1.41546273521922e-05}. Best is trial 57 with value: 0.8758668072731921.\n",
      "[I 2025-01-16 20:12:40,151] Trial 70 finished with value: 0.8746844342185153 and parameters: {'objective': 'reg:pseudohubererror', 'num_parallel_tree': 30, 'n_estimators': 121, 'max_depth': 4, 'learning_rate': 0.028785812732655076, 'subsample': 0.5422872290657177, 'colsample_bytree': 0.6618034491143515, 'reg_alpha': 1.5978142440168755e-05, 'reg_lambda': 2.6882331680943247e-05}. Best is trial 57 with value: 0.8758668072731921.\n",
      "[I 2025-01-16 20:12:48,435] Trial 71 finished with value: 0.8750519285463203 and parameters: {'objective': 'reg:pseudohubererror', 'num_parallel_tree': 29, 'n_estimators': 146, 'max_depth': 4, 'learning_rate': 0.023150815374869908, 'subsample': 0.5676488904890766, 'colsample_bytree': 0.6861567590418165, 'reg_alpha': 0.00021643788111124667, 'reg_lambda': 3.3200906562326274e-05}. Best is trial 57 with value: 0.8758668072731921.\n",
      "[I 2025-01-16 20:13:05,374] Trial 72 finished with value: 0.8737417313776245 and parameters: {'objective': 'reg:pseudohubererror', 'num_parallel_tree': 29, 'n_estimators': 300, 'max_depth': 4, 'learning_rate': 0.023903665087111673, 'subsample': 0.5499309588380022, 'colsample_bytree': 0.6755485241092064, 'reg_alpha': 0.00015082503508038176, 'reg_lambda': 4.930031546281301e-05}. Best is trial 57 with value: 0.8758668072731921.\n",
      "[I 2025-01-16 20:13:11,048] Trial 73 finished with value: 0.8744607420189818 and parameters: {'objective': 'reg:pseudohubererror', 'num_parallel_tree': 27, 'n_estimators': 106, 'max_depth': 4, 'learning_rate': 0.023109711154136202, 'subsample': 0.5665284626251693, 'colsample_bytree': 0.7055600034311504, 'reg_alpha': 0.00010516764398391043, 'reg_lambda': 4.036244453548741e-05}. Best is trial 57 with value: 0.8758668072731921.\n",
      "[I 2025-01-16 20:13:19,332] Trial 74 finished with value: 0.8750519285463202 and parameters: {'objective': 'reg:pseudohubererror', 'num_parallel_tree': 29, 'n_estimators': 148, 'max_depth': 4, 'learning_rate': 0.025538976650541348, 'subsample': 0.5848239989682694, 'colsample_bytree': 0.6854274681147569, 'reg_alpha': 0.0003863386679059433, 'reg_lambda': 7.655692217241226e-05}. Best is trial 57 with value: 0.8758668072731921.\n",
      "[I 2025-01-16 20:13:25,993] Trial 75 finished with value: 0.8748761703895439 and parameters: {'objective': 'reg:pseudohubererror', 'num_parallel_tree': 26, 'n_estimators': 130, 'max_depth': 4, 'learning_rate': 0.026850270817236913, 'subsample': 0.6152275753828641, 'colsample_bytree': 0.6459816115912764, 'reg_alpha': 0.0002926875748320218, 'reg_lambda': 0.005596676268664971}. Best is trial 57 with value: 0.8758668072731921.\n",
      "[I 2025-01-16 20:13:33,495] Trial 76 finished with value: 0.8687725689451314 and parameters: {'objective': 'reg:tweedie', 'num_parallel_tree': 27, 'n_estimators': 141, 'max_depth': 4, 'learning_rate': 0.024825497040058007, 'subsample': 0.6022256994528147, 'colsample_bytree': 0.6620022560061866, 'reg_alpha': 0.0008929222614758057, 'reg_lambda': 2.125698174737761e-05}. Best is trial 57 with value: 0.8758668072731921.\n",
      "[I 2025-01-16 20:13:38,314] Trial 77 finished with value: 0.8744607420189819 and parameters: {'objective': 'reg:pseudohubererror', 'num_parallel_tree': 21, 'n_estimators': 118, 'max_depth': 4, 'learning_rate': 0.02820429664771627, 'subsample': 0.5290333160361921, 'colsample_bytree': 0.7167438346294752, 'reg_alpha': 0.00021443313230558778, 'reg_lambda': 0.00012993860748929014}. Best is trial 57 with value: 0.8758668072731921.\n",
      "[I 2025-01-16 20:13:45,627] Trial 78 finished with value: 0.8750519285463202 and parameters: {'objective': 'reg:pseudohubererror', 'num_parallel_tree': 30, 'n_estimators': 125, 'max_depth': 4, 'learning_rate': 0.022816388794411564, 'subsample': 0.5783830896308126, 'colsample_bytree': 0.6739423248934675, 'reg_alpha': 0.0005190254836974984, 'reg_lambda': 9.144546281473593e-05}. Best is trial 57 with value: 0.8758668072731921.\n",
      "[I 2025-01-16 20:13:51,971] Trial 79 finished with value: 0.8749880164893108 and parameters: {'objective': 'reg:pseudohubererror', 'num_parallel_tree': 23, 'n_estimators': 140, 'max_depth': 4, 'learning_rate': 0.03301152044642725, 'subsample': 0.5560066827699763, 'colsample_bytree': 0.6864877551031356, 'reg_alpha': 0.0034588453571728277, 'reg_lambda': 5.3159590304554746e-05}. Best is trial 57 with value: 0.8758668072731921.\n",
      "[I 2025-01-16 20:14:00,957] Trial 80 finished with value: 0.8753075767743584 and parameters: {'objective': 'reg:pseudohubererror', 'num_parallel_tree': 29, 'n_estimators': 160, 'max_depth': 4, 'learning_rate': 0.029572903560435716, 'subsample': 0.5681239163256312, 'colsample_bytree': 0.704840327278106, 'reg_alpha': 0.0018727800535209465, 'reg_lambda': 1.7459284481391982e-05}. Best is trial 57 with value: 0.8758668072731921.\n",
      "[I 2025-01-16 20:14:10,229] Trial 81 finished with value: 0.8754194228741251 and parameters: {'objective': 'reg:pseudohubererror', 'num_parallel_tree': 29, 'n_estimators': 159, 'max_depth': 4, 'learning_rate': 0.02948015336639838, 'subsample': 0.5680104641740399, 'colsample_bytree': 0.7020671278077883, 'reg_alpha': 0.007326215674151514, 'reg_lambda': 3.0391382154839004e-05}. Best is trial 57 with value: 0.8758668072731921.\n",
      "[I 2025-01-16 20:14:19,702] Trial 82 finished with value: 0.8756750711021635 and parameters: {'objective': 'reg:pseudohubererror', 'num_parallel_tree': 28, 'n_estimators': 157, 'max_depth': 4, 'learning_rate': 0.031326283149430534, 'subsample': 0.5394199273643564, 'colsample_bytree': 0.7310419099257812, 'reg_alpha': 0.007059304487924796, 'reg_lambda': 1.7902305394402837e-05}. Best is trial 57 with value: 0.8758668072731921.\n",
      "[I 2025-01-16 20:14:29,762] Trial 83 finished with value: 0.8740612916626721 and parameters: {'objective': 'reg:pseudohubererror', 'num_parallel_tree': 28, 'n_estimators': 176, 'max_depth': 4, 'learning_rate': 0.031466216707497434, 'subsample': 0.591710792886161, 'colsample_bytree': 0.7479952579946223, 'reg_alpha': 0.011634971113976572, 'reg_lambda': 1.8580001580689113e-05}. Best is trial 57 with value: 0.8758668072731921.\n",
      "[I 2025-01-16 20:14:39,423] Trial 84 finished with value: 0.8749560604608059 and parameters: {'objective': 'reg:pseudohubererror', 'num_parallel_tree': 29, 'n_estimators': 168, 'max_depth': 4, 'learning_rate': 0.029709745806269432, 'subsample': 0.5370917280453091, 'colsample_bytree': 0.7333759349717675, 'reg_alpha': 0.004931360334343944, 'reg_lambda': 1.2173043364659323e-05}. Best is trial 57 with value: 0.8758668072731921.\n",
      "[I 2025-01-16 20:14:47,818] Trial 85 finished with value: 0.8754194228741251 and parameters: {'objective': 'reg:pseudohubererror', 'num_parallel_tree': 26, 'n_estimators': 159, 'max_depth': 4, 'learning_rate': 0.030658658459053165, 'subsample': 0.5719158979642124, 'colsample_bytree': 0.7075484304903279, 'reg_alpha': 0.006612234637127574, 'reg_lambda': 2.5662483376690084e-05}. Best is trial 57 with value: 0.8758668072731921.\n",
      "[I 2025-01-16 20:14:51,776] Trial 86 finished with value: 0.8750998625890775 and parameters: {'objective': 'reg:pseudohubererror', 'num_parallel_tree': 26, 'n_estimators': 160, 'max_depth': 4, 'learning_rate': 0.033363383035899606, 'subsample': 0.5443864818255432, 'colsample_bytree': 0.7284330836432625, 'reg_alpha': 0.018499895744823195, 'reg_lambda': 2.710397032705665e-05}. Best is trial 57 with value: 0.8758668072731921.\n",
      "[I 2025-01-16 20:14:59,136] Trial 87 finished with value: 0.874253027833701 and parameters: {'objective': 'reg:pseudohubererror', 'num_parallel_tree': 25, 'n_estimators': 182, 'max_depth': 4, 'learning_rate': 0.0356464004323755, 'subsample': 0.5634123256508253, 'colsample_bytree': 0.7022716322911132, 'reg_alpha': 0.006787143480983766, 'reg_lambda': 1.3035244293725565e-05}. Best is trial 57 with value: 0.8758668072731921.\n",
      "[I 2025-01-16 20:15:06,309] Trial 88 finished with value: 0.875531268973892 and parameters: {'objective': 'reg:pseudohubererror', 'num_parallel_tree': 23, 'n_estimators': 157, 'max_depth': 4, 'learning_rate': 0.0310724015583592, 'subsample': 0.57214567332259, 'colsample_bytree': 0.7090701362370753, 'reg_alpha': 0.00176749566323799, 'reg_lambda': 1.6738572976666016e-05}. Best is trial 57 with value: 0.8758668072731921.\n",
      "[I 2025-01-16 20:15:12,243] Trial 89 finished with value: 0.8621416930303901 and parameters: {'objective': 'reg:tweedie', 'num_parallel_tree': 24, 'n_estimators': 164, 'max_depth': 3, 'learning_rate': 0.030552041974694223, 'subsample': 0.5220024940276223, 'colsample_bytree': 0.7395394862152326, 'reg_alpha': 0.0038884971004113896, 'reg_lambda': 2.4492914650538548e-05}. Best is trial 57 with value: 0.8758668072731921.\n",
      "[I 2025-01-16 20:15:19,176] Trial 90 finished with value: 0.8744607420189818 and parameters: {'objective': 'reg:pseudohubererror', 'num_parallel_tree': 23, 'n_estimators': 155, 'max_depth': 4, 'learning_rate': 0.031456075459384836, 'subsample': 0.7893232595232049, 'colsample_bytree': 0.7106975296370088, 'reg_alpha': 0.0024202422277028526, 'reg_lambda': 1.810915045036959e-05}. Best is trial 57 with value: 0.8758668072731921.\n",
      "[I 2025-01-16 20:15:27,509] Trial 91 finished with value: 0.8755152909596395 and parameters: {'objective': 'reg:pseudohubererror', 'num_parallel_tree': 27, 'n_estimators': 159, 'max_depth': 4, 'learning_rate': 0.031132479563750922, 'subsample': 0.5715157205428176, 'colsample_bytree': 0.71464958446644, 'reg_alpha': 0.001637460036518296, 'reg_lambda': 1.4592128753811805e-05}. Best is trial 57 with value: 0.8758668072731921.\n",
      "[I 2025-01-16 20:15:37,019] Trial 92 finished with value: 0.8744767200332343 and parameters: {'objective': 'reg:pseudohubererror', 'num_parallel_tree': 27, 'n_estimators': 173, 'max_depth': 4, 'learning_rate': 0.03211866674671386, 'subsample': 0.572487883930848, 'colsample_bytree': 0.7206048427934459, 'reg_alpha': 0.0016847697995758441, 'reg_lambda': 2.9762355038024822e-05}. Best is trial 57 with value: 0.8758668072731921.\n",
      "[I 2025-01-16 20:15:43,797] Trial 93 finished with value: 0.8759307193302016 and parameters: {'objective': 'reg:pseudohubererror', 'num_parallel_tree': 21, 'n_estimators': 157, 'max_depth': 4, 'learning_rate': 0.030667230642422286, 'subsample': 0.5715179242734815, 'colsample_bytree': 0.7144645784573894, 'reg_alpha': 0.0064916301134209375, 'reg_lambda': 2.14465845959358e-05}. Best is trial 93 with value: 0.8759307193302016.\n",
      "[I 2025-01-16 20:15:51,694] Trial 94 finished with value: 0.8751477966318347 and parameters: {'objective': 'reg:pseudohubererror', 'num_parallel_tree': 25, 'n_estimators': 155, 'max_depth': 4, 'learning_rate': 0.03098981128813468, 'subsample': 0.5600627095800581, 'colsample_bytree': 0.745898216319327, 'reg_alpha': 0.006300877747063304, 'reg_lambda': 1.0123666083363344e-05}. Best is trial 93 with value: 0.8759307193302016.\n",
      "[I 2025-01-16 20:15:58,910] Trial 95 finished with value: 0.8731026108075288 and parameters: {'objective': 'reg:pseudohubererror', 'num_parallel_tree': 21, 'n_estimators': 165, 'max_depth': 4, 'learning_rate': 0.03331497772928399, 'subsample': 0.5515342862781359, 'colsample_bytree': 0.7670131721170909, 'reg_alpha': 0.014989852403220332, 'reg_lambda': 2.2862974410302855e-05}. Best is trial 93 with value: 0.8759307193302016.\n",
      "[I 2025-01-16 20:16:06,295] Trial 96 finished with value: 0.8739334675486531 and parameters: {'objective': 'reg:pseudohubererror', 'num_parallel_tree': 19, 'n_estimators': 191, 'max_depth': 4, 'learning_rate': 0.03488007688456896, 'subsample': 0.5798743975541467, 'colsample_bytree': 0.7139221917344353, 'reg_alpha': 0.0028861397447642787, 'reg_lambda': 1.3249814665906945e-05}. Best is trial 93 with value: 0.8759307193302016.\n",
      "[I 2025-01-16 20:16:12,779] Trial 97 finished with value: 0.8740772696769246 and parameters: {'objective': 'reg:pseudohubererror', 'num_parallel_tree': 21, 'n_estimators': 150, 'max_depth': 4, 'learning_rate': 0.0384055507637571, 'subsample': 0.6076302460674808, 'colsample_bytree': 0.7277425598910139, 'reg_alpha': 0.007818303918791613, 'reg_lambda': 4.437372597739727e-05}. Best is trial 93 with value: 0.8759307193302016.\n",
      "[I 2025-01-16 20:16:20,482] Trial 98 finished with value: 0.8751957306745918 and parameters: {'objective': 'reg:pseudohubererror', 'num_parallel_tree': 24, 'n_estimators': 157, 'max_depth': 4, 'learning_rate': 0.0311170166823858, 'subsample': 0.5717275234606266, 'colsample_bytree': 0.6934539648626267, 'reg_alpha': 0.004513410772065791, 'reg_lambda': 6.346660646043141e-05}. Best is trial 93 with value: 0.8759307193302016.\n",
      "[I 2025-01-16 20:16:25,760] Trial 99 finished with value: 0.8747323682612725 and parameters: {'objective': 'reg:pseudohubererror', 'num_parallel_tree': 23, 'n_estimators': 180, 'max_depth': 4, 'learning_rate': 0.028991842458062272, 'subsample': 0.5463558077279402, 'colsample_bytree': 0.754730103715691, 'reg_alpha': 0.011991224069566655, 'reg_lambda': 3.30919104885498e-05}. Best is trial 93 with value: 0.8759307193302016.\n"
     ]
    },
    {
     "name": "stdout",
     "output_type": "stream",
     "text": [
      "Best parameters: {'objective': 'reg:pseudohubererror', 'num_parallel_tree': 21, 'n_estimators': 157, 'max_depth': 4, 'learning_rate': 0.030667230642422286, 'subsample': 0.5715179242734815, 'colsample_bytree': 0.7144645784573894, 'reg_alpha': 0.0064916301134209375, 'reg_lambda': 2.14465845959358e-05}\n",
      "Best score: 0.8759307193302016\n"
     ]
    }
   ],
   "source": [
    "params = RunOptimization(train)"
   ]
  },
  {
   "cell_type": "code",
   "execution_count": 7,
   "metadata": {},
   "outputs": [
    {
     "name": "stdout",
     "output_type": "stream",
     "text": [
      "{'objective': 'reg:pseudohubererror', 'num_parallel_tree': 21, 'n_estimators': 157, 'max_depth': 4, 'learning_rate': 0.030667230642422286, 'subsample': 0.5715179242734815, 'colsample_bytree': 0.7144645784573894, 'reg_alpha': 0.0064916301134209375, 'reg_lambda': 2.14465845959358e-05}\n"
     ]
    }
   ],
   "source": [
    "print(params)"
   ]
  },
  {
   "cell_type": "code",
   "execution_count": 11,
   "metadata": {},
   "outputs": [
    {
     "name": "stdout",
     "output_type": "stream",
     "text": [
      "0.9210526315789473\n"
     ]
    }
   ],
   "source": [
    "# 使用最优参数训练模型\n",
    "model = XGBClassifier(**params)\n",
    "model.fit(train.drop(columns=['Survived']), train['Survived'])\n",
    "res_pro = model.predict(test)\n",
    "\n",
    "# 查看结果(假设 gender_submission.csv 是 Kaggle 提供的答案)\n",
    "ans = pd.read_csv('data/gender_submission.csv')\n",
    "ac_pro = (ans['Survived'] == res_pro).sum()/len(res_pro)\n",
    "print(ac_pro)"
   ]
  },
  {
   "cell_type": "code",
   "execution_count": 12,
   "metadata": {},
   "outputs": [
    {
     "name": "stdout",
     "output_type": "stream",
     "text": [
      "0.8277511961722488\n"
     ]
    }
   ],
   "source": [
    "# 使用原始模型查看结果\n",
    "org_model = XGBClassifier()\n",
    "org_model.fit(train.drop(columns=['Survived']), train['Survived'])\n",
    "res_org = org_model.predict(test)\n",
    "\n",
    "# 查看结果(假设 gender_submission.csv 是 Kaggle 提供的答案)\n",
    "ans = pd.read_csv('data/gender_submission.csv')\n",
    "ac_org = (ans['Survived'] == res_org).sum()/len(res_org)\n",
    "print(ac_org)\n"
   ]
  },
  {
   "cell_type": "code",
   "execution_count": 13,
   "metadata": {},
   "outputs": [
    {
     "name": "stdout",
     "output_type": "stream",
     "text": [
      "The increase is 11.27%\n"
     ]
    }
   ],
   "source": [
    "increase = (ac_pro - ac_org) / ac_org * 100\n",
    "print(f\"The increase is {increase:.2f}%\")\n"
   ]
  },
  {
   "cell_type": "markdown",
   "metadata": {},
   "source": [
    "可以看到，有接近10%左右的提升，这是非常夸张的"
   ]
  },
  {
   "cell_type": "code",
   "execution_count": 14,
   "metadata": {},
   "outputs": [
    {
     "name": "stdout",
     "output_type": "stream",
     "text": [
      "OK!\n"
     ]
    }
   ],
   "source": [
    "# 保存下来提交看看\n",
    "submission = pd.DataFrame({\n",
    "    'PassengerId': ans['PassengerId'],\n",
    "    'Survived': res_pro\n",
    "})\n",
    "\n",
    "submission.to_csv('data/ProSubmission.csv', index=False)\n",
    "print(\"OK!\")"
   ]
  },
  {
   "cell_type": "code",
   "execution_count": 15,
   "metadata": {},
   "outputs": [
    {
     "name": "stdout",
     "output_type": "stream",
     "text": [
      "OK!\n"
     ]
    }
   ],
   "source": [
    "submission = pd.DataFrame({\n",
    "    'PassengerId': ans['PassengerId'],\n",
    "    'Survived': res_org\n",
    "})\n",
    "\n",
    "submission.to_csv('data/OrgSubmission.csv', index=False)\n",
    "print(\"OK!\")"
   ]
  },
  {
   "cell_type": "markdown",
   "metadata": {},
   "source": [
    "在 Kaggle 上提交结果如下：\n",
    "\n",
    "ProSubmission.csv ---> 0.77751\n",
    "\n",
    "OrgSubmission.csv ---> 0.76076\n",
    "\n",
    "在 Kaggle 分数上，提升有 1% 左右。"
   ]
  }
 ],
 "metadata": {
  "kernelspec": {
   "display_name": "Kaggle",
   "language": "python",
   "name": "python3"
  },
  "language_info": {
   "codemirror_mode": {
    "name": "ipython",
    "version": 3
   },
   "file_extension": ".py",
   "mimetype": "text/x-python",
   "name": "python",
   "nbconvert_exporter": "python",
   "pygments_lexer": "ipython3",
   "version": "3.11.7"
  }
 },
 "nbformat": 4,
 "nbformat_minor": 2
}
