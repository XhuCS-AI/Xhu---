{
 "cells": [
  {
   "cell_type": "code",
   "execution_count": 16,
   "metadata": {},
   "outputs": [],
   "source": [
    "# 在这个文档中，我们将使用Optuna库来优化我们的模型。\n",
    "import optuna\n",
    "import numpy as np\n",
    "import pandas as pd\n",
    "from sklearn.model_selection import StratifiedKFold\n",
    "from sklearn.metrics import roc_auc_score\n",
    "from sklearn.impute import KNNImputer\n",
    "from xgboost import XGBClassifier"
   ]
  },
  {
   "cell_type": "code",
   "execution_count": 17,
   "metadata": {},
   "outputs": [],
   "source": [
    "SEED = 42"
   ]
  },
  {
   "cell_type": "markdown",
   "metadata": {},
   "source": [
    "数据预处理部分和 baseline 采用一样的方案"
   ]
  },
  {
   "cell_type": "code",
   "execution_count": 18,
   "metadata": {},
   "outputs": [],
   "source": [
    "def DataPreprocessing(df):\n",
    "    # 异常值处理\n",
    "    df['Fare'] = np.where(df['Fare']<7.5, np.nan, df['Fare'])\n",
    "        \n",
    "    # 特征丢弃\n",
    "    df.drop(columns=['Cabin','PassengerId','Name','Ticket'],inplace=True)\n",
    "    \n",
    "    # 特征编码\n",
    "    genders = {'male': 0, 'female': 1}\n",
    "    start_pos = {'S': 0, 'C': 1, 'Q': 2}\n",
    "    df['Sex'] = df['Sex'].map(genders)\n",
    "    df['Embarked'] = df['Embarked'].map(start_pos)\n",
    "    \n",
    "    # 缺失值处理\n",
    "    df['Fare'] = df.groupby('Pclass')['Fare'].transform(lambda x: x.fillna(x.mean()))\n",
    "\n",
    "    df['Embarked'] = df['Embarked'].fillna(df['Embarked'].mode()[0])\n",
    "    \n",
    "    imputer = KNNImputer(n_neighbors=5)\n",
    "    df['Age'] = imputer.fit_transform(df[['Age']])\n",
    "    \n",
    "    # 特征构造\n",
    "    df['family'] = df['SibSp'] + df['Parch']\n",
    "    return df"
   ]
  },
  {
   "cell_type": "code",
   "execution_count": 19,
   "metadata": {},
   "outputs": [],
   "source": [
    "train = pd.read_csv('data/train.csv')\n",
    "test = pd.read_csv('data/test.csv')\n",
    "train = DataPreprocessing(train)\n",
    "test = DataPreprocessing(test)"
   ]
  },
  {
   "cell_type": "markdown",
   "metadata": {},
   "source": [
    "这里下面我们将使用 Optuna 来优化我们的 XGBoost 模型。\n",
    "\n",
    "并在最后，我们会与没有使用优化参数的 XGBoost 模型进行比较。"
   ]
  },
  {
   "cell_type": "code",
   "execution_count": 20,
   "metadata": {},
   "outputs": [],
   "source": [
    "def n_cross_validata(model, data, skf):\n",
    "    X = data.drop(columns=['Survived'])\n",
    "    y = data['Survived']\n",
    "    \n",
    "    score = []\n",
    "    \n",
    "    for train_index, test_index in skf.split(X, y):\n",
    "        X_train, X_test = X.iloc[train_index], X.iloc[test_index]\n",
    "        y_train, y_test = y.iloc[train_index], y.iloc[test_index]\n",
    "        model.fit(X_train, y_train)\n",
    "        y_pred = model.predict_proba(X_test)[:, 1]\n",
    "        score.append(roc_auc_score(y_test, y_pred))\n",
    "    \n",
    "    return np.mean(score)\n",
    "\n",
    "def CV_Objective(trial, data, skf):\n",
    "    params = {\n",
    "        'objective': trial.suggest_categorical('objective', ['binary:logistic', 'multi:softmax']), \n",
    "        'random_state': SEED,\n",
    "        'num_parallel_tree': trial.suggest_int('num_parallel_tree', 2, 30),\n",
    "        'n_estimators': trial.suggest_int('n_estimators', 100, 300),\n",
    "        'max_depth': trial.suggest_int('max_depth', 2, 4),\n",
    "        'learning_rate': trial.suggest_float('learning_rate', 0.02, 0.05, log=True),\n",
    "        'subsample': trial.suggest_float('subsample', 0.5, 0.8),\n",
    "        'colsample_bytree': trial.suggest_float('colsample_bytree', 0.5, 0.8),\n",
    "        'reg_alpha': trial.suggest_float('reg_alpha', 1e-5, 1e-1, log=True),\n",
    "        'reg_lambda': trial.suggest_float('reg_lambda', 1e-5, 1e-1, log=True),\n",
    "    }\n",
    "    if params['objective'] == 'multi:softmax':\n",
    "        params['num_class'] = 2 # 如果选择了 Softmax 作为目标函数，则指定类别为 2 类。\n",
    "\n",
    "    model = XGBClassifier(**params)\n",
    "    score = n_cross_validata(model,data, skf)\n",
    "    \n",
    "    return score\n",
    "    \n",
    "    \n",
    "def RunOptimization(data):\n",
    "    study = optuna.create_study(direction='maximize')\n",
    "    skf = StratifiedKFold(n_splits=3, shuffle=True, random_state=SEED)\n",
    "    study.optimize(lambda trial: CV_Objective(trial, data, skf), n_trials=100)\n",
    "    \n",
    "    print(f\"Best parameters: {study.best_params}\")\n",
    "    print(f\"Best score: {study.best_value}\")\n",
    "    return study.best_params"
   ]
  },
  {
   "cell_type": "code",
   "execution_count": 21,
   "metadata": {},
   "outputs": [
    {
     "name": "stderr",
     "output_type": "stream",
     "text": [
      "[I 2025-01-16 21:49:58,805] A new study created in memory with name: no-name-7786ef37-603a-41b7-ade6-ca95a14017f1\n",
      "[I 2025-01-16 21:50:00,042] Trial 0 finished with value: 0.8702265682420989 and parameters: {'objective': 'binary:logistic', 'num_parallel_tree': 11, 'n_estimators': 194, 'max_depth': 2, 'learning_rate': 0.03853954807446726, 'subsample': 0.5216723235861611, 'colsample_bytree': 0.7047898507086833, 'reg_alpha': 0.005743859421116511, 'reg_lambda': 2.3424838116935857e-05}. Best is trial 0 with value: 0.8702265682420989.\n",
      "[I 2025-01-16 21:50:02,169] Trial 1 finished with value: 0.8751797526603394 and parameters: {'objective': 'binary:logistic', 'num_parallel_tree': 13, 'n_estimators': 238, 'max_depth': 3, 'learning_rate': 0.03651202699082135, 'subsample': 0.5976812820377737, 'colsample_bytree': 0.7054695064403063, 'reg_alpha': 1.0805211984943543e-05, 'reg_lambda': 6.771924038903692e-05}. Best is trial 1 with value: 0.8751797526603394.\n",
      "[I 2025-01-16 21:50:05,458] Trial 2 finished with value: 0.8741252037196817 and parameters: {'objective': 'multi:softmax', 'num_parallel_tree': 17, 'n_estimators': 188, 'max_depth': 3, 'learning_rate': 0.03474520376872495, 'subsample': 0.5743931878229082, 'colsample_bytree': 0.5534627499698577, 'reg_alpha': 0.00043804210152958734, 'reg_lambda': 1.7147529532840733e-05}. Best is trial 1 with value: 0.8751797526603394.\n",
      "[I 2025-01-16 21:50:06,005] Trial 3 finished with value: 0.867805899082862 and parameters: {'objective': 'multi:softmax', 'num_parallel_tree': 4, 'n_estimators': 153, 'max_depth': 2, 'learning_rate': 0.04447235411842351, 'subsample': 0.7476574889889845, 'colsample_bytree': 0.7385509970056352, 'reg_alpha': 2.314847182500803e-05, 'reg_lambda': 7.936328343109213e-05}. Best is trial 1 with value: 0.8751797526603394.\n",
      "[I 2025-01-16 21:50:06,917] Trial 4 finished with value: 0.8766017959288019 and parameters: {'objective': 'binary:logistic', 'num_parallel_tree': 11, 'n_estimators': 125, 'max_depth': 4, 'learning_rate': 0.037751483868844055, 'subsample': 0.5559830130865258, 'colsample_bytree': 0.7438484605091938, 'reg_alpha': 0.0010865935744219784, 'reg_lambda': 0.00040678940880797793}. Best is trial 4 with value: 0.8766017959288019.\n",
      "[I 2025-01-16 21:50:12,258] Trial 5 finished with value: 0.877177004441888 and parameters: {'objective': 'multi:softmax', 'num_parallel_tree': 19, 'n_estimators': 222, 'max_depth': 4, 'learning_rate': 0.026514509667063233, 'subsample': 0.7987183616613024, 'colsample_bytree': 0.6936121244765714, 'reg_alpha': 0.03712939740326116, 'reg_lambda': 0.004326414894841418}. Best is trial 5 with value: 0.877177004441888.\n",
      "[I 2025-01-16 21:50:15,881] Trial 6 finished with value: 0.8742210718051959 and parameters: {'objective': 'multi:softmax', 'num_parallel_tree': 14, 'n_estimators': 265, 'max_depth': 3, 'learning_rate': 0.033328768540105004, 'subsample': 0.5201587958632086, 'colsample_bytree': 0.799248391559602, 'reg_alpha': 0.05214864420656484, 'reg_lambda': 0.0004853283134564019}. Best is trial 5 with value: 0.877177004441888.\n",
      "[I 2025-01-16 21:50:18,784] Trial 7 finished with value: 0.8727670725082287 and parameters: {'objective': 'multi:softmax', 'num_parallel_tree': 22, 'n_estimators': 137, 'max_depth': 3, 'learning_rate': 0.021058157689718783, 'subsample': 0.7617815403396815, 'colsample_bytree': 0.7555751473909211, 'reg_alpha': 0.0014466279809462997, 'reg_lambda': 4.317418037843098e-05}. Best is trial 5 with value: 0.877177004441888.\n",
      "[I 2025-01-16 21:50:25,011] Trial 8 finished with value: 0.8672386795769023 and parameters: {'objective': 'multi:softmax', 'num_parallel_tree': 29, 'n_estimators': 165, 'max_depth': 2, 'learning_rate': 0.02090237260885774, 'subsample': 0.6865985793108151, 'colsample_bytree': 0.5033357130596601, 'reg_alpha': 0.00033685020622386, 'reg_lambda': 0.0010731039073844143}. Best is trial 5 with value: 0.877177004441888.\n",
      "[I 2025-01-16 21:50:25,823] Trial 9 finished with value: 0.8691800083085673 and parameters: {'objective': 'binary:logistic', 'num_parallel_tree': 2, 'n_estimators': 292, 'max_depth': 2, 'learning_rate': 0.03685098456859316, 'subsample': 0.7504744502916927, 'colsample_bytree': 0.5796805181225191, 'reg_alpha': 0.0012136856235346156, 'reg_lambda': 0.0008818470883834123}. Best is trial 5 with value: 0.877177004441888.\n",
      "[I 2025-01-16 21:50:47,975] Trial 10 finished with value: 0.8771450484133831 and parameters: {'objective': 'multi:softmax', 'num_parallel_tree': 25, 'n_estimators': 234, 'max_depth': 4, 'learning_rate': 0.025813359548945113, 'subsample': 0.6762911069650519, 'colsample_bytree': 0.6388627489440657, 'reg_alpha': 0.09384894617906585, 'reg_lambda': 0.026356109264506662}. Best is trial 5 with value: 0.877177004441888.\n",
      "[I 2025-01-16 21:51:09,186] Trial 11 finished with value: 0.8773208065701595 and parameters: {'objective': 'multi:softmax', 'num_parallel_tree': 25, 'n_estimators': 225, 'max_depth': 4, 'learning_rate': 0.025843169209133984, 'subsample': 0.6602975176547938, 'colsample_bytree': 0.6464437602693555, 'reg_alpha': 0.09472487570375498, 'reg_lambda': 0.036486377224976635}. Best is trial 11 with value: 0.8773208065701595.\n",
      "[I 2025-01-16 21:51:27,222] Trial 12 finished with value: 0.8774006966414213 and parameters: {'objective': 'multi:softmax', 'num_parallel_tree': 20, 'n_estimators': 233, 'max_depth': 4, 'learning_rate': 0.026558645327257026, 'subsample': 0.7940842943845143, 'colsample_bytree': 0.6435997058781342, 'reg_alpha': 0.014213691651878918, 'reg_lambda': 0.04425848711461413}. Best is trial 12 with value: 0.8774006966414213.\n",
      "[I 2025-01-16 21:51:56,252] Trial 13 finished with value: 0.875659093087911 and parameters: {'objective': 'multi:softmax', 'num_parallel_tree': 28, 'n_estimators': 269, 'max_depth': 4, 'learning_rate': 0.02839364821828315, 'subsample': 0.6318619829256742, 'colsample_bytree': 0.6328350413586018, 'reg_alpha': 0.00998752525645552, 'reg_lambda': 0.09382760106395577}. Best is trial 12 with value: 0.8774006966414213.\n",
      "[I 2025-01-16 21:52:14,470] Trial 14 finished with value: 0.8776403668552072 and parameters: {'objective': 'multi:softmax', 'num_parallel_tree': 22, 'n_estimators': 214, 'max_depth': 4, 'learning_rate': 0.022881925649316407, 'subsample': 0.7006601244473516, 'colsample_bytree': 0.6063864452671528, 'reg_alpha': 0.01354752964809937, 'reg_lambda': 0.014676402002359942}. Best is trial 14 with value: 0.8776403668552072.\n",
      "[I 2025-01-16 21:52:30,273] Trial 15 finished with value: 0.8771290703991309 and parameters: {'objective': 'multi:softmax', 'num_parallel_tree': 20, 'n_estimators': 204, 'max_depth': 4, 'learning_rate': 0.02281565559471071, 'subsample': 0.7118820034230764, 'colsample_bytree': 0.5905196040619967, 'reg_alpha': 0.009556484397475418, 'reg_lambda': 0.007623179774013681}. Best is trial 14 with value: 0.8776403668552072.\n",
      "[I 2025-01-16 21:52:53,041] Trial 16 finished with value: 0.8758508292589399 and parameters: {'objective': 'multi:softmax', 'num_parallel_tree': 23, 'n_estimators': 256, 'max_depth': 4, 'learning_rate': 0.02928230371448452, 'subsample': 0.7886099993795946, 'colsample_bytree': 0.5869112731846443, 'reg_alpha': 0.0043975258310371985, 'reg_lambda': 0.007255638146670657}. Best is trial 14 with value: 0.8776403668552072.\n",
      "[I 2025-01-16 21:52:56,861] Trial 17 finished with value: 0.873150544850286 and parameters: {'objective': 'multi:softmax', 'num_parallel_tree': 7, 'n_estimators': 174, 'max_depth': 3, 'learning_rate': 0.023653477050436217, 'subsample': 0.7193997164489563, 'colsample_bytree': 0.673166056853167, 'reg_alpha': 0.028954150703176265, 'reg_lambda': 0.021504714011523266}. Best is trial 14 with value: 0.8776403668552072.\n",
      "[I 2025-01-16 21:53:00,502] Trial 18 finished with value: 0.8744447640047296 and parameters: {'objective': 'binary:logistic', 'num_parallel_tree': 17, 'n_estimators': 107, 'max_depth': 4, 'learning_rate': 0.03006740496601882, 'subsample': 0.6343827403463915, 'colsample_bytree': 0.5335462166613326, 'reg_alpha': 0.018336005460081094, 'reg_lambda': 0.08882214992689726}. Best is trial 14 with value: 0.8776403668552072.\n",
      "[I 2025-01-16 21:53:30,272] Trial 19 finished with value: 0.8767775540855783 and parameters: {'objective': 'multi:softmax', 'num_parallel_tree': 26, 'n_estimators': 297, 'max_depth': 4, 'learning_rate': 0.023041964498788398, 'subsample': 0.7113012671759515, 'colsample_bytree': 0.6039148176417406, 'reg_alpha': 7.385977355826063e-05, 'reg_lambda': 0.0023788603910791135}. Best is trial 14 with value: 0.8776403668552072.\n",
      "[I 2025-01-16 21:53:43,484] Trial 20 finished with value: 0.8731345668360335 and parameters: {'objective': 'multi:softmax', 'num_parallel_tree': 21, 'n_estimators': 210, 'max_depth': 3, 'learning_rate': 0.020315699164370867, 'subsample': 0.7691940871510657, 'colsample_bytree': 0.6166781868486216, 'reg_alpha': 0.002371208063041393, 'reg_lambda': 0.015154482874798697}. Best is trial 14 with value: 0.8776403668552072.\n",
      "[I 2025-01-16 21:54:07,251] Trial 21 finished with value: 0.876889400185345 and parameters: {'objective': 'multi:softmax', 'num_parallel_tree': 25, 'n_estimators': 246, 'max_depth': 4, 'learning_rate': 0.02551843690963076, 'subsample': 0.6623951854857206, 'colsample_bytree': 0.6573600808870306, 'reg_alpha': 0.0969290651345265, 'reg_lambda': 0.03551336319100183}. Best is trial 14 with value: 0.8776403668552072.\n",
      "[I 2025-01-16 21:54:28,028] Trial 22 finished with value: 0.8766976640143164 and parameters: {'objective': 'multi:softmax', 'num_parallel_tree': 24, 'n_estimators': 222, 'max_depth': 4, 'learning_rate': 0.02748505864109289, 'subsample': 0.616759217429954, 'colsample_bytree': 0.6650404760912524, 'reg_alpha': 0.014480302882781248, 'reg_lambda': 0.045812415763703845}. Best is trial 14 with value: 0.8776403668552072.\n",
      "[I 2025-01-16 21:54:53,420] Trial 23 finished with value: 0.8774965647269357 and parameters: {'objective': 'multi:softmax', 'num_parallel_tree': 30, 'n_estimators': 222, 'max_depth': 4, 'learning_rate': 0.024394864219991385, 'subsample': 0.6887185298638449, 'colsample_bytree': 0.6233590458129887, 'reg_alpha': 0.043498164775815404, 'reg_lambda': 0.010668291286291286}. Best is trial 14 with value: 0.8776403668552072.\n",
      "[I 2025-01-16 21:55:14,650] Trial 24 finished with value: 0.877464608698431 and parameters: {'objective': 'multi:softmax', 'num_parallel_tree': 30, 'n_estimators': 185, 'max_depth': 4, 'learning_rate': 0.024331065728189678, 'subsample': 0.7310683695560642, 'colsample_bytree': 0.5605284850781002, 'reg_alpha': 0.0033241700522297288, 'reg_lambda': 0.010375547639643332}. Best is trial 14 with value: 0.8776403668552072.\n",
      "[I 2025-01-16 21:55:31,075] Trial 25 finished with value: 0.8735979292493529 and parameters: {'objective': 'multi:softmax', 'num_parallel_tree': 30, 'n_estimators': 182, 'max_depth': 3, 'learning_rate': 0.02367825192732407, 'subsample': 0.6937587009863206, 'colsample_bytree': 0.5539781001864416, 'reg_alpha': 0.002739138185210102, 'reg_lambda': 0.010035084896070816}. Best is trial 14 with value: 0.8776403668552072.\n",
      "[I 2025-01-16 21:55:41,868] Trial 26 finished with value: 0.8762183235867447 and parameters: {'objective': 'binary:logistic', 'num_parallel_tree': 27, 'n_estimators': 208, 'max_depth': 4, 'learning_rate': 0.021546076408111365, 'subsample': 0.7229624556355354, 'colsample_bytree': 0.5164565703461766, 'reg_alpha': 0.0003885247091037535, 'reg_lambda': 0.0035694185340640824}. Best is trial 14 with value: 0.8776403668552072.\n",
      "[I 2025-01-16 21:56:00,214] Trial 27 finished with value: 0.8776723228837121 and parameters: {'objective': 'multi:softmax', 'num_parallel_tree': 30, 'n_estimators': 158, 'max_depth': 4, 'learning_rate': 0.03078840754749942, 'subsample': 0.7359720038450445, 'colsample_bytree': 0.5683119580085048, 'reg_alpha': 0.0053439059454559595, 'reg_lambda': 0.0018233322863324204}. Best is trial 27 with value: 0.8776723228837121.\n",
      "[I 2025-01-16 21:56:12,684] Trial 28 finished with value: 0.8739174895344006 and parameters: {'objective': 'multi:softmax', 'num_parallel_tree': 27, 'n_estimators': 154, 'max_depth': 3, 'learning_rate': 0.03220868094503813, 'subsample': 0.6804177066795666, 'colsample_bytree': 0.6087132644701856, 'reg_alpha': 0.006333868478923504, 'reg_lambda': 0.0017328246279052074}. Best is trial 27 with value: 0.8776723228837121.\n",
      "[I 2025-01-16 21:56:22,935] Trial 29 finished with value: 0.8758348512446874 and parameters: {'objective': 'binary:logistic', 'num_parallel_tree': 28, 'n_estimators': 194, 'max_depth': 4, 'learning_rate': 0.0446617141863626, 'subsample': 0.7026936353979129, 'colsample_bytree': 0.5722654448507847, 'reg_alpha': 0.024443666631504306, 'reg_lambda': 0.0030275532417308273}. Best is trial 27 with value: 0.8776723228837121.\n",
      "[I 2025-01-16 21:56:38,342] Trial 30 finished with value: 0.877017224299364 and parameters: {'objective': 'multi:softmax', 'num_parallel_tree': 30, 'n_estimators': 133, 'max_depth': 4, 'learning_rate': 0.04977881659727496, 'subsample': 0.7389664902570496, 'colsample_bytree': 0.620565407555542, 'reg_alpha': 0.006901430405591117, 'reg_lambda': 0.00021718577565515472}. Best is trial 27 with value: 0.8776723228837121.\n",
      "[I 2025-01-16 21:56:57,930] Trial 31 finished with value: 0.8772409164988973 and parameters: {'objective': 'multi:softmax', 'num_parallel_tree': 30, 'n_estimators': 168, 'max_depth': 4, 'learning_rate': 0.024304040486640456, 'subsample': 0.7308399031786628, 'colsample_bytree': 0.5564225290069241, 'reg_alpha': 0.003181390858931863, 'reg_lambda': 0.011485906912253466}. Best is trial 27 with value: 0.8776723228837121.\n",
      "[I 2025-01-16 21:57:19,170] Trial 32 finished with value: 0.8776723228837119 and parameters: {'objective': 'multi:softmax', 'num_parallel_tree': 28, 'n_estimators': 197, 'max_depth': 4, 'learning_rate': 0.02225777899160153, 'subsample': 0.769535479643194, 'colsample_bytree': 0.5323358505128659, 'reg_alpha': 0.050272525548297545, 'reg_lambda': 0.005215112430995282}. Best is trial 27 with value: 0.8776723228837121.\n",
      "[I 2025-01-16 21:57:39,673] Trial 33 finished with value: 0.8773687406129166 and parameters: {'objective': 'multi:softmax', 'num_parallel_tree': 27, 'n_estimators': 196, 'max_depth': 4, 'learning_rate': 0.02202005434533743, 'subsample': 0.7784988516386072, 'colsample_bytree': 0.5434709246494767, 'reg_alpha': 0.04662511774704347, 'reg_lambda': 0.0016151902256854485}. Best is trial 27 with value: 0.8776723228837121.\n",
      "[I 2025-01-16 21:57:57,467] Trial 34 finished with value: 0.8748442143610391 and parameters: {'objective': 'multi:softmax', 'num_parallel_tree': 28, 'n_estimators': 215, 'max_depth': 3, 'learning_rate': 0.030107937127732878, 'subsample': 0.7567839100101977, 'colsample_bytree': 0.520742313436744, 'reg_alpha': 0.052451180238318205, 'reg_lambda': 0.006424471460097802}. Best is trial 27 with value: 0.8776723228837121.\n",
      "[I 2025-01-16 21:58:02,758] Trial 35 finished with value: 0.8746205221615058 and parameters: {'objective': 'binary:logistic', 'num_parallel_tree': 18, 'n_estimators': 150, 'max_depth': 4, 'learning_rate': 0.02024657587795774, 'subsample': 0.6974587605814495, 'colsample_bytree': 0.5927876601015477, 'reg_alpha': 0.0236923389872361, 'reg_lambda': 0.005013678319210087}. Best is trial 27 with value: 0.8776723228837121.\n",
      "[I 2025-01-16 21:58:24,327] Trial 36 finished with value: 0.8757709391876777 and parameters: {'objective': 'multi:softmax', 'num_parallel_tree': 23, 'n_estimators': 243, 'max_depth': 4, 'learning_rate': 0.03442927352847649, 'subsample': 0.7745094543758975, 'colsample_bytree': 0.5689160939173319, 'reg_alpha': 0.011698855297776957, 'reg_lambda': 0.020063558060323422}. Best is trial 27 with value: 0.8776723228837121.\n",
      "[I 2025-01-16 21:58:31,003] Trial 37 finished with value: 0.876809510114083 and parameters: {'objective': 'multi:softmax', 'num_parallel_tree': 15, 'n_estimators': 114, 'max_depth': 4, 'learning_rate': 0.039193074806875804, 'subsample': 0.5506730231549459, 'colsample_bytree': 0.539859050631876, 'reg_alpha': 0.05167671244769958, 'reg_lambda': 0.0006078070500202844}. Best is trial 27 with value: 0.8776723228837121.\n",
      "[I 2025-01-16 21:58:36,385] Trial 38 finished with value: 0.873278368964305 and parameters: {'objective': 'multi:softmax', 'num_parallel_tree': 10, 'n_estimators': 180, 'max_depth': 3, 'learning_rate': 0.022578877422949326, 'subsample': 0.7417298234314103, 'colsample_bytree': 0.6942303991347232, 'reg_alpha': 0.00019442895561517067, 'reg_lambda': 0.0001694627981916729}. Best is trial 27 with value: 0.8776723228837121.\n",
      "[I 2025-01-16 21:58:44,270] Trial 39 finished with value: 0.8765059278432877 and parameters: {'objective': 'binary:logistic', 'num_parallel_tree': 22, 'n_estimators': 191, 'max_depth': 4, 'learning_rate': 0.024704386016101636, 'subsample': 0.5047477077095162, 'colsample_bytree': 0.6006022346820156, 'reg_alpha': 1.1862773552104337e-05, 'reg_lambda': 0.0020382273966591765}. Best is trial 27 with value: 0.8776723228837121.\n",
      "[I 2025-01-16 21:58:56,418] Trial 40 finished with value: 0.8748442143610391 and parameters: {'objective': 'multi:softmax', 'num_parallel_tree': 26, 'n_estimators': 159, 'max_depth': 3, 'learning_rate': 0.040790217881458486, 'subsample': 0.6636250788780943, 'colsample_bytree': 0.6249406713710144, 'reg_alpha': 0.03552781619176994, 'reg_lambda': 0.004462384639050432}. Best is trial 27 with value: 0.8776723228837121.\n",
      "[I 2025-01-16 21:59:18,617] Trial 41 finished with value: 0.8775285207554405 and parameters: {'objective': 'multi:softmax', 'num_parallel_tree': 29, 'n_estimators': 199, 'max_depth': 4, 'learning_rate': 0.024740181934761706, 'subsample': 0.7358183351527328, 'colsample_bytree': 0.5660015365713261, 'reg_alpha': 0.0039444696531052625, 'reg_lambda': 0.012301821007377957}. Best is trial 27 with value: 0.8776723228837121.\n",
      "[I 2025-01-16 21:59:41,223] Trial 42 finished with value: 0.877384718627169 and parameters: {'objective': 'multi:softmax', 'num_parallel_tree': 29, 'n_estimators': 200, 'max_depth': 4, 'learning_rate': 0.021931612937859262, 'subsample': 0.7552944548060059, 'colsample_bytree': 0.5019228562622504, 'reg_alpha': 0.0018335627818124888, 'reg_lambda': 0.014168848188753028}. Best is trial 27 with value: 0.8776723228837121.\n",
      "[I 2025-01-16 22:00:06,205] Trial 43 finished with value: 0.8776403668552072 and parameters: {'objective': 'multi:softmax', 'num_parallel_tree': 29, 'n_estimators': 220, 'max_depth': 4, 'learning_rate': 0.026831729098082523, 'subsample': 0.7055164382646391, 'colsample_bytree': 0.5231392959881127, 'reg_alpha': 0.0005911085160292205, 'reg_lambda': 1.2436032141275841e-05}. Best is trial 27 with value: 0.8776723228837121.\n",
      "[I 2025-01-16 22:00:18,932] Trial 44 finished with value: 0.8664637458856613 and parameters: {'objective': 'multi:softmax', 'num_parallel_tree': 28, 'n_estimators': 214, 'max_depth': 2, 'learning_rate': 0.027396033613081402, 'subsample': 0.7482267584871335, 'colsample_bytree': 0.5248423099570731, 'reg_alpha': 0.0006289986907381425, 'reg_lambda': 1.2495021555524606e-05}. Best is trial 27 with value: 0.8776723228837121.\n",
      "[I 2025-01-16 22:00:33,004] Trial 45 finished with value: 0.8773527625986642 and parameters: {'objective': 'multi:softmax', 'num_parallel_tree': 26, 'n_estimators': 139, 'max_depth': 4, 'learning_rate': 0.030849994557694185, 'subsample': 0.7286614839332552, 'colsample_bytree': 0.5406935768222189, 'reg_alpha': 0.0001730250699394375, 'reg_lambda': 0.0011519518195410585}. Best is trial 27 with value: 0.8776723228837121.\n",
      "[I 2025-01-16 22:00:49,247] Trial 46 finished with value: 0.8774965647269357 and parameters: {'objective': 'multi:softmax', 'num_parallel_tree': 24, 'n_estimators': 173, 'max_depth': 4, 'learning_rate': 0.028360617150495485, 'subsample': 0.7085546187075785, 'colsample_bytree': 0.573979771727332, 'reg_alpha': 0.0005744396694845662, 'reg_lambda': 3.287232002208881e-05}. Best is trial 27 with value: 0.8776723228837121.\n",
      "[I 2025-01-16 22:01:00,083] Trial 47 finished with value: 0.8760425654299683 and parameters: {'objective': 'multi:softmax', 'num_parallel_tree': 12, 'n_estimators': 227, 'max_depth': 4, 'learning_rate': 0.031834377178537245, 'subsample': 0.7839826443770298, 'colsample_bytree': 0.512163799804575, 'reg_alpha': 0.0010116023316550182, 'reg_lambda': 0.000345693697297418}. Best is trial 27 with value: 0.8776723228837121.\n",
      "[I 2025-01-16 22:01:29,873] Trial 48 finished with value: 0.8765858179145495 and parameters: {'objective': 'multi:softmax', 'num_parallel_tree': 29, 'n_estimators': 267, 'max_depth': 4, 'learning_rate': 0.02655448614440003, 'subsample': 0.7645263575158997, 'colsample_bytree': 0.5293015337684189, 'reg_alpha': 0.005097515360576918, 'reg_lambda': 6.90068690232311e-05}. Best is trial 27 with value: 0.8776723228837121.\n",
      "[I 2025-01-16 22:01:53,392] Trial 49 finished with value: 0.8771130923848783 and parameters: {'objective': 'multi:softmax', 'num_parallel_tree': 24, 'n_estimators': 252, 'max_depth': 4, 'learning_rate': 0.025556623706824967, 'subsample': 0.7989823546955256, 'colsample_bytree': 0.5635396445852271, 'reg_alpha': 0.008293179708851994, 'reg_lambda': 0.00011360447839876526}. Best is trial 27 with value: 0.8776723228837121.\n",
      "[I 2025-01-16 22:02:04,259] Trial 50 finished with value: 0.8749880164893108 and parameters: {'objective': 'binary:logistic', 'num_parallel_tree': 27, 'n_estimators': 202, 'max_depth': 4, 'learning_rate': 0.020911442889001076, 'subsample': 0.6445111017185374, 'colsample_bytree': 0.5496998360781875, 'reg_alpha': 0.0015273113605779986, 'reg_lambda': 2.4789152557787593e-05}. Best is trial 27 with value: 0.8776723228837121.\n",
      "[I 2025-01-16 22:02:22,085] Trial 51 finished with value: 0.8776084108267025 and parameters: {'objective': 'multi:softmax', 'num_parallel_tree': 29, 'n_estimators': 234, 'max_depth': 4, 'learning_rate': 0.02496774387816072, 'subsample': 0.6876399814589566, 'colsample_bytree': 0.5783278195679805, 'reg_alpha': 0.019191914389744182, 'reg_lambda': 0.007496846696467613}. Best is trial 27 with value: 0.8776723228837121.\n",
      "[I 2025-01-16 22:02:48,785] Trial 52 finished with value: 0.8774965647269356 and parameters: {'objective': 'multi:softmax', 'num_parallel_tree': 29, 'n_estimators': 237, 'max_depth': 4, 'learning_rate': 0.023536378914451917, 'subsample': 0.6724682021722836, 'colsample_bytree': 0.5862917008094036, 'reg_alpha': 0.017298308004336717, 'reg_lambda': 0.006001140347565116}. Best is trial 27 with value: 0.8776723228837121.\n",
      "[I 2025-01-16 22:03:13,906] Trial 53 finished with value: 0.8776723228837119 and parameters: {'objective': 'multi:softmax', 'num_parallel_tree': 28, 'n_estimators': 233, 'max_depth': 4, 'learning_rate': 0.02518439185725752, 'subsample': 0.7223936735733547, 'colsample_bytree': 0.572993478544672, 'reg_alpha': 0.004294347307056121, 'reg_lambda': 0.06392602813730068}. Best is trial 27 with value: 0.8776723228837121.\n",
      "[I 2025-01-16 22:03:37,079] Trial 54 finished with value: 0.8774326526699262 and parameters: {'objective': 'multi:softmax', 'num_parallel_tree': 26, 'n_estimators': 231, 'max_depth': 4, 'learning_rate': 0.027199980743039708, 'subsample': 0.7147708216363072, 'colsample_bytree': 0.580238715821855, 'reg_alpha': 0.0007604828462550202, 'reg_lambda': 0.027500822482923685}. Best is trial 27 with value: 0.8776723228837121.\n",
      "[I 2025-01-16 22:04:07,260] Trial 55 finished with value: 0.8776563448694595 and parameters: {'objective': 'multi:softmax', 'num_parallel_tree': 28, 'n_estimators': 281, 'max_depth': 4, 'learning_rate': 0.022519670852115196, 'subsample': 0.7013684948770939, 'colsample_bytree': 0.6002392070703931, 'reg_alpha': 0.06520932160541316, 'reg_lambda': 0.05864459844730106}. Best is trial 27 with value: 0.8776723228837121.\n",
      "[I 2025-01-16 22:04:35,444] Trial 56 finished with value: 0.8775444987696929 and parameters: {'objective': 'multi:softmax', 'num_parallel_tree': 27, 'n_estimators': 272, 'max_depth': 4, 'learning_rate': 0.022389141009556326, 'subsample': 0.7012063615789181, 'colsample_bytree': 0.5984761080948574, 'reg_alpha': 0.00022337494975057268, 'reg_lambda': 0.07555685656592293}. Best is trial 27 with value: 0.8776723228837121.\n",
      "[I 2025-01-16 22:05:02,875] Trial 57 finished with value: 0.877384718627169 and parameters: {'objective': 'multi:softmax', 'num_parallel_tree': 25, 'n_estimators': 282, 'max_depth': 4, 'learning_rate': 0.02133641509812431, 'subsample': 0.7231495531956734, 'colsample_bytree': 0.609873530859887, 'reg_alpha': 0.00011066254505207116, 'reg_lambda': 0.061418921681831926}. Best is trial 27 with value: 0.8776723228837121.\n",
      "[I 2025-01-16 22:05:19,820] Trial 58 finished with value: 0.8753874668456204 and parameters: {'objective': 'multi:softmax', 'num_parallel_tree': 20, 'n_estimators': 287, 'max_depth': 3, 'learning_rate': 0.023224178428142797, 'subsample': 0.597984906056449, 'colsample_bytree': 0.7710659057335063, 'reg_alpha': 0.07177884970217116, 'reg_lambda': 0.056618032054096955}. Best is trial 27 with value: 0.8776723228837121.\n",
      "[I 2025-01-16 22:05:40,465] Trial 59 finished with value: 0.875083884574825 and parameters: {'objective': 'multi:softmax', 'num_parallel_tree': 23, 'n_estimators': 261, 'max_depth': 4, 'learning_rate': 0.03329962490027339, 'subsample': 0.7461117829307968, 'colsample_bytree': 0.6355797834360961, 'reg_alpha': 0.07597822468587231, 'reg_lambda': 0.03200331455812605}. Best is trial 27 with value: 0.8776723228837121.\n",
      "[I 2025-01-16 22:05:50,929] Trial 60 finished with value: 0.8674783497906882 and parameters: {'objective': 'multi:softmax', 'num_parallel_tree': 22, 'n_estimators': 217, 'max_depth': 2, 'learning_rate': 0.028860932282331678, 'subsample': 0.6730641097454443, 'colsample_bytree': 0.5143353658998379, 'reg_alpha': 0.031830974275097276, 'reg_lambda': 0.020268141134146232}. Best is trial 27 with value: 0.8776723228837121.\n",
      "[I 2025-01-16 22:06:17,398] Trial 61 finished with value: 0.8777362349407216 and parameters: {'objective': 'multi:softmax', 'num_parallel_tree': 28, 'n_estimators': 243, 'max_depth': 4, 'learning_rate': 0.02488990275512596, 'subsample': 0.6850259392265402, 'colsample_bytree': 0.5828742864559443, 'reg_alpha': 0.012455285376901371, 'reg_lambda': 0.003237997804823451}. Best is trial 61 with value: 0.8777362349407216.\n",
      "[I 2025-01-16 22:06:44,098] Trial 62 finished with value: 0.8775924328124501 and parameters: {'objective': 'multi:softmax', 'num_parallel_tree': 28, 'n_estimators': 247, 'max_depth': 4, 'learning_rate': 0.026043056074517925, 'subsample': 0.6520161054602555, 'colsample_bytree': 0.5484295303196125, 'reg_alpha': 0.011380570589732577, 'reg_lambda': 0.002901916197079902}. Best is trial 61 with value: 0.8777362349407216.\n",
      "[I 2025-01-16 22:07:07,988] Trial 63 finished with value: 0.8775285207554404 and parameters: {'objective': 'multi:softmax', 'num_parallel_tree': 26, 'n_estimators': 240, 'max_depth': 4, 'learning_rate': 0.023709997365525984, 'subsample': 0.7088771631762761, 'colsample_bytree': 0.5359848174887025, 'reg_alpha': 0.008105586766599112, 'reg_lambda': 0.0008509464118161705}. Best is trial 61 with value: 0.8777362349407216.\n",
      "[I 2025-01-16 22:07:37,736] Trial 64 finished with value: 0.8772888505416546 and parameters: {'objective': 'multi:softmax', 'num_parallel_tree': 28, 'n_estimators': 276, 'max_depth': 4, 'learning_rate': 0.02285512933890791, 'subsample': 0.6842506107417687, 'colsample_bytree': 0.5923827352318292, 'reg_alpha': 0.001882309810181507, 'reg_lambda': 0.0012731625839212924}. Best is trial 61 with value: 0.8777362349407216.\n",
      "[I 2025-01-16 22:08:12,206] Trial 65 finished with value: 0.8775444987696929 and parameters: {'objective': 'multi:softmax', 'num_parallel_tree': 30, 'n_estimators': 300, 'max_depth': 4, 'learning_rate': 0.022041046065934693, 'subsample': 0.7203706622494894, 'colsample_bytree': 0.5584306474702772, 'reg_alpha': 0.06382205582830619, 'reg_lambda': 0.09894567720091023}. Best is trial 61 with value: 0.8777362349407216.\n",
      "[I 2025-01-16 22:08:37,239] Trial 66 finished with value: 0.8775924328124501 and parameters: {'objective': 'multi:softmax', 'num_parallel_tree': 25, 'n_estimators': 258, 'max_depth': 4, 'learning_rate': 0.020651045640984696, 'subsample': 0.6982808650404766, 'colsample_bytree': 0.6113006607611142, 'reg_alpha': 0.005444893267027349, 'reg_lambda': 0.04822264314389569}. Best is trial 61 with value: 0.8777362349407216.\n",
      "[I 2025-01-16 22:08:48,187] Trial 67 finished with value: 0.8773048285559071 and parameters: {'objective': 'binary:logistic', 'num_parallel_tree': 27, 'n_estimators': 206, 'max_depth': 4, 'learning_rate': 0.02785860792202144, 'subsample': 0.6915940346160447, 'colsample_bytree': 0.6530829938118492, 'reg_alpha': 0.014403224216012703, 'reg_lambda': 0.003763888982471526}. Best is trial 61 with value: 0.8777362349407216.\n",
      "[I 2025-01-16 22:08:50,961] Trial 68 finished with value: 0.8764260377720255 and parameters: {'objective': 'multi:softmax', 'num_parallel_tree': 3, 'n_estimators': 227, 'max_depth': 4, 'learning_rate': 0.026476821700754823, 'subsample': 0.7623954381742499, 'colsample_bytree': 0.719611725789494, 'reg_alpha': 0.02523066206675456, 'reg_lambda': 0.0027336226802080186}. Best is trial 61 with value: 0.8777362349407216.\n",
      "[I 2025-01-16 22:09:15,478] Trial 69 finished with value: 0.8775924328124501 and parameters: {'objective': 'multi:softmax', 'num_parallel_tree': 29, 'n_estimators': 219, 'max_depth': 4, 'learning_rate': 0.025289767749034252, 'subsample': 0.7071419070159833, 'colsample_bytree': 0.5856036637651122, 'reg_alpha': 0.0024754364042412426, 'reg_lambda': 0.0007040355058751616}. Best is trial 61 with value: 0.8777362349407216.\n",
      "[I 2025-01-16 22:09:20,547] Trial 70 finished with value: 0.8778321030262358 and parameters: {'objective': 'multi:softmax', 'num_parallel_tree': 6, 'n_estimators': 211, 'max_depth': 4, 'learning_rate': 0.024041156149029772, 'subsample': 0.7356543986040803, 'colsample_bytree': 0.5310666510485545, 'reg_alpha': 0.0385019642551044, 'reg_lambda': 0.016999335953788205}. Best is trial 70 with value: 0.8778321030262358.\n",
      "[I 2025-01-16 22:09:24,496] Trial 71 finished with value: 0.8770332023136165 and parameters: {'objective': 'multi:softmax', 'num_parallel_tree': 5, 'n_estimators': 211, 'max_depth': 4, 'learning_rate': 0.023610808163717235, 'subsample': 0.7302168224861527, 'colsample_bytree': 0.5298664568751157, 'reg_alpha': 0.019630822396911576, 'reg_lambda': 0.017037584227262034}. Best is trial 70 with value: 0.8778321030262358.\n",
      "[I 2025-01-16 22:09:37,608] Trial 72 finished with value: 0.8775125427411882 and parameters: {'objective': 'multi:softmax', 'num_parallel_tree': 15, 'n_estimators': 227, 'max_depth': 4, 'learning_rate': 0.024025321476626754, 'subsample': 0.722364604251786, 'colsample_bytree': 0.5064588743052084, 'reg_alpha': 0.09714870654866417, 'reg_lambda': 0.0691254567618027}. Best is trial 70 with value: 0.8778321030262358.\n",
      "[I 2025-01-16 22:09:50,065] Trial 73 finished with value: 0.8770491803278689 and parameters: {'objective': 'multi:softmax', 'num_parallel_tree': 17, 'n_estimators': 188, 'max_depth': 4, 'learning_rate': 0.021628871257998773, 'subsample': 0.7399342652221188, 'colsample_bytree': 0.5542529911648963, 'reg_alpha': 0.03590738290427088, 'reg_lambda': 0.03984688248452916}. Best is trial 70 with value: 0.8778321030262358.\n",
      "[I 2025-01-16 22:09:57,920] Trial 74 finished with value: 0.8779759051545074 and parameters: {'objective': 'multi:softmax', 'num_parallel_tree': 8, 'n_estimators': 247, 'max_depth': 4, 'learning_rate': 0.02292936372515384, 'subsample': 0.7164979719952946, 'colsample_bytree': 0.5466771646314869, 'reg_alpha': 0.04044679018371633, 'reg_lambda': 0.02359419029958609}. Best is trial 74 with value: 0.8779759051545074.\n",
      "[I 2025-01-16 22:10:07,383] Trial 75 finished with value: 0.8769213562138498 and parameters: {'objective': 'multi:softmax', 'num_parallel_tree': 9, 'n_estimators': 264, 'max_depth': 4, 'learning_rate': 0.022480103251084196, 'subsample': 0.7540513705207506, 'colsample_bytree': 0.5681191797223564, 'reg_alpha': 0.042704693254084894, 'reg_lambda': 0.02651517176996293}. Best is trial 74 with value: 0.8779759051545074.\n",
      "[I 2025-01-16 22:10:12,496] Trial 76 finished with value: 0.8776563448694596 and parameters: {'objective': 'multi:softmax', 'num_parallel_tree': 5, 'n_estimators': 250, 'max_depth': 4, 'learning_rate': 0.020032996606248455, 'subsample': 0.717370980491161, 'colsample_bytree': 0.5450633957442688, 'reg_alpha': 0.05746442794399929, 'reg_lambda': 0.008926855544666918}. Best is trial 74 with value: 0.8779759051545074.\n",
      "[I 2025-01-16 22:10:18,503] Trial 77 finished with value: 0.8771929824561403 and parameters: {'objective': 'multi:softmax', 'num_parallel_tree': 6, 'n_estimators': 254, 'max_depth': 4, 'learning_rate': 0.02012139102594384, 'subsample': 0.7699167918874118, 'colsample_bytree': 0.5450683005173235, 'reg_alpha': 0.06064671205302259, 'reg_lambda': 0.004581623559527496}. Best is trial 74 with value: 0.8779759051545074.\n",
      "[I 2025-01-16 22:10:22,588] Trial 78 finished with value: 0.8769213562138498 and parameters: {'objective': 'binary:logistic', 'num_parallel_tree': 8, 'n_estimators': 251, 'max_depth': 4, 'learning_rate': 0.021076560536047527, 'subsample': 0.7141617636315056, 'colsample_bytree': 0.5372998359825578, 'reg_alpha': 0.028388128095251885, 'reg_lambda': 0.01007374771590652}. Best is trial 74 with value: 0.8779759051545074.\n",
      "[I 2025-01-16 22:10:26,566] Trial 79 finished with value: 0.8769213562138498 and parameters: {'objective': 'multi:softmax', 'num_parallel_tree': 4, 'n_estimators': 244, 'max_depth': 4, 'learning_rate': 0.02067790173596962, 'subsample': 0.7447231854896305, 'colsample_bytree': 0.5771005278725494, 'reg_alpha': 0.04022460483755588, 'reg_lambda': 0.021793246403394393}. Best is trial 74 with value: 0.8779759051545074.\n",
      "[I 2025-01-16 22:10:28,761] Trial 80 finished with value: 0.8774965647269357 and parameters: {'objective': 'multi:softmax', 'num_parallel_tree': 2, 'n_estimators': 248, 'max_depth': 4, 'learning_rate': 0.023078401588013726, 'subsample': 0.7320690265208487, 'colsample_bytree': 0.5562743049538182, 'reg_alpha': 0.05815585673065351, 'reg_lambda': 0.008945997368250113}. Best is trial 74 with value: 0.8779759051545074.\n",
      "[I 2025-01-16 22:10:35,319] Trial 81 finished with value: 0.8772568945131498 and parameters: {'objective': 'multi:softmax', 'num_parallel_tree': 7, 'n_estimators': 237, 'max_depth': 4, 'learning_rate': 0.021655604552796814, 'subsample': 0.6781509387802259, 'colsample_bytree': 0.5666230618789946, 'reg_alpha': 0.07917133253846527, 'reg_lambda': 0.016887778315038543}. Best is trial 74 with value: 0.8779759051545074.\n",
      "[I 2025-01-16 22:10:40,786] Trial 82 finished with value: 0.8754354008883776 and parameters: {'objective': 'multi:softmax', 'num_parallel_tree': 6, 'n_estimators': 232, 'max_depth': 4, 'learning_rate': 0.0359628057351239, 'subsample': 0.7154802418862694, 'colsample_bytree': 0.5958645890445281, 'reg_alpha': 0.01152912106962157, 'reg_lambda': 0.005827690192457486}. Best is trial 74 with value: 0.8779759051545074.\n",
      "[I 2025-01-16 22:10:45,582] Trial 83 finished with value: 0.8769053781995974 and parameters: {'objective': 'multi:softmax', 'num_parallel_tree': 5, 'n_estimators': 240, 'max_depth': 4, 'learning_rate': 0.024079902532327262, 'subsample': 0.6947087735625657, 'colsample_bytree': 0.5305521582269, 'reg_alpha': 0.023660551531540865, 'reg_lambda': 0.01360289677278064}. Best is trial 74 with value: 0.8779759051545074.\n",
      "[I 2025-01-16 22:10:50,036] Trial 84 finished with value: 0.8771450484133831 and parameters: {'objective': 'multi:softmax', 'num_parallel_tree': 4, 'n_estimators': 279, 'max_depth': 4, 'learning_rate': 0.022093362939185686, 'subsample': 0.7225775108289592, 'colsample_bytree': 0.6281718005945922, 'reg_alpha': 0.004317877984349416, 'reg_lambda': 0.03348274032501657}. Best is trial 74 with value: 0.8779759051545074.\n",
      "[I 2025-01-16 22:10:58,767] Trial 85 finished with value: 0.8763940817435208 and parameters: {'objective': 'multi:softmax', 'num_parallel_tree': 8, 'n_estimators': 289, 'max_depth': 4, 'learning_rate': 0.024653311684767292, 'subsample': 0.7391846998256163, 'colsample_bytree': 0.5839686776243552, 'reg_alpha': 0.014714278858416438, 'reg_lambda': 0.008819602085122823}. Best is trial 74 with value: 0.8779759051545074.\n",
      "[I 2025-01-16 22:11:21,867] Trial 86 finished with value: 0.8737736874061293 and parameters: {'objective': 'multi:softmax', 'num_parallel_tree': 30, 'n_estimators': 260, 'max_depth': 3, 'learning_rate': 0.02243669017275768, 'subsample': 0.7893410319802661, 'colsample_bytree': 0.6162764740397162, 'reg_alpha': 0.04536030167585449, 'reg_lambda': 0.0023213035748677257}. Best is trial 74 with value: 0.8779759051545074.\n",
      "[I 2025-01-16 22:11:31,767] Trial 87 finished with value: 0.8775924328124501 and parameters: {'objective': 'multi:softmax', 'num_parallel_tree': 12, 'n_estimators': 210, 'max_depth': 4, 'learning_rate': 0.022973947519340496, 'subsample': 0.7265910502499309, 'colsample_bytree': 0.6043691115640825, 'reg_alpha': 0.009333528238463545, 'reg_lambda': 0.0016351473218025685}. Best is trial 74 with value: 0.8779759051545074.\n",
      "[I 2025-01-16 22:11:34,198] Trial 88 finished with value: 0.8766337519573068 and parameters: {'objective': 'multi:softmax', 'num_parallel_tree': 3, 'n_estimators': 195, 'max_depth': 4, 'learning_rate': 0.025125629261543006, 'subsample': 0.6639056518474362, 'colsample_bytree': 0.5463870028256621, 'reg_alpha': 0.033890660582997084, 'reg_lambda': 0.023445280842253172}. Best is trial 74 with value: 0.8779759051545074.\n",
      "[I 2025-01-16 22:11:58,037] Trial 89 finished with value: 0.8777202569264692 and parameters: {'objective': 'multi:softmax', 'num_parallel_tree': 28, 'n_estimators': 222, 'max_depth': 4, 'learning_rate': 0.025972093513545846, 'subsample': 0.7009460543881796, 'colsample_bytree': 0.5739871700082053, 'reg_alpha': 0.006467619470289971, 'reg_lambda': 0.05082280708328882}. Best is trial 74 with value: 0.8779759051545074.\n",
      "[I 2025-01-16 22:12:02,608] Trial 90 finished with value: 0.8771290703991307 and parameters: {'objective': 'binary:logistic', 'num_parallel_tree': 10, 'n_estimators': 224, 'max_depth': 4, 'learning_rate': 0.025953909556058058, 'subsample': 0.7340324861457805, 'colsample_bytree': 0.5728955229525539, 'reg_alpha': 0.007033365542333055, 'reg_lambda': 0.048818332060600635}. Best is trial 74 with value: 0.8779759051545074.\n",
      "[I 2025-01-16 22:12:13,420] Trial 91 finished with value: 0.8764260377720258 and parameters: {'objective': 'multi:softmax', 'num_parallel_tree': 19, 'n_estimators': 145, 'max_depth': 4, 'learning_rate': 0.02403781092714121, 'subsample': 0.6992885400071017, 'colsample_bytree': 0.5644684144145006, 'reg_alpha': 0.0036871969490631295, 'reg_lambda': 0.07512482512847941}. Best is trial 74 with value: 0.8779759051545074.\n",
      "[I 2025-01-16 22:12:38,147] Trial 92 finished with value: 0.8774805867126833 and parameters: {'objective': 'multi:softmax', 'num_parallel_tree': 28, 'n_estimators': 230, 'max_depth': 4, 'learning_rate': 0.021267565902669063, 'subsample': 0.6840175281040765, 'colsample_bytree': 0.519324473271941, 'reg_alpha': 0.0062067872059040794, 'reg_lambda': 0.003563773734574964}. Best is trial 74 with value: 0.8779759051545074.\n",
      "[I 2025-01-16 22:12:59,557] Trial 93 finished with value: 0.877800146997731 and parameters: {'objective': 'multi:softmax', 'num_parallel_tree': 27, 'n_estimators': 205, 'max_depth': 4, 'learning_rate': 0.02333490319885624, 'subsample': 0.7043443012978671, 'colsample_bytree': 0.5608826796201256, 'reg_alpha': 0.020457846260321856, 'reg_lambda': 0.03069978713204766}. Best is trial 74 with value: 0.8779759051545074.\n",
      "[I 2025-01-16 22:13:12,905] Trial 94 finished with value: 0.8760745214584732 and parameters: {'objective': 'multi:softmax', 'num_parallel_tree': 27, 'n_estimators': 128, 'max_depth': 4, 'learning_rate': 0.023349889916917173, 'subsample': 0.7148878646234436, 'colsample_bytree': 0.5505052385105605, 'reg_alpha': 0.05026728405377516, 'reg_lambda': 0.03732245497970753}. Best is trial 74 with value: 0.8779759051545074.\n",
      "[I 2025-01-16 22:13:30,601] Trial 95 finished with value: 0.8775924328124501 and parameters: {'objective': 'multi:softmax', 'num_parallel_tree': 28, 'n_estimators': 163, 'max_depth': 4, 'learning_rate': 0.02951900182798198, 'subsample': 0.6929675350725175, 'colsample_bytree': 0.5602484398790751, 'reg_alpha': 0.018418254795911613, 'reg_lambda': 0.057134105347257186}. Best is trial 74 with value: 0.8779759051545074.\n",
      "[I 2025-01-16 22:13:48,645] Trial 96 finished with value: 0.8777042789122168 and parameters: {'objective': 'multi:softmax', 'num_parallel_tree': 26, 'n_estimators': 180, 'max_depth': 4, 'learning_rate': 0.024415647595333927, 'subsample': 0.7044297417380604, 'colsample_bytree': 0.5383575179985535, 'reg_alpha': 0.0279636965369084, 'reg_lambda': 0.04415852655742152}. Best is trial 74 with value: 0.8779759051545074.\n",
      "[I 2025-01-16 22:14:06,629] Trial 97 finished with value: 0.8774965647269357 and parameters: {'objective': 'multi:softmax', 'num_parallel_tree': 26, 'n_estimators': 176, 'max_depth': 4, 'learning_rate': 0.02548749787360959, 'subsample': 0.7048971118898785, 'colsample_bytree': 0.5416245692859682, 'reg_alpha': 0.021057514153490185, 'reg_lambda': 0.03010713112312803}. Best is trial 74 with value: 0.8779759051545074.\n",
      "[I 2025-01-16 22:14:24,544] Trial 98 finished with value: 0.8775125427411882 and parameters: {'objective': 'multi:softmax', 'num_parallel_tree': 25, 'n_estimators': 184, 'max_depth': 4, 'learning_rate': 0.02456996988885666, 'subsample': 0.7526331776278814, 'colsample_bytree': 0.5339324247627953, 'reg_alpha': 0.02747747812151619, 'reg_lambda': 0.017862567157726484}. Best is trial 74 with value: 0.8779759051545074.\n",
      "[I 2025-01-16 22:14:30,357] Trial 99 finished with value: 0.8776084108267025 and parameters: {'objective': 'multi:softmax', 'num_parallel_tree': 7, 'n_estimators': 205, 'max_depth': 4, 'learning_rate': 0.030930050786504203, 'subsample': 0.6679931045550525, 'colsample_bytree': 0.5239449723709425, 'reg_alpha': 0.03180501013671581, 'reg_lambda': 0.046280713690412534}. Best is trial 74 with value: 0.8779759051545074.\n"
     ]
    },
    {
     "name": "stdout",
     "output_type": "stream",
     "text": [
      "Best parameters: {'objective': 'multi:softmax', 'num_parallel_tree': 8, 'n_estimators': 247, 'max_depth': 4, 'learning_rate': 0.02292936372515384, 'subsample': 0.7164979719952946, 'colsample_bytree': 0.5466771646314869, 'reg_alpha': 0.04044679018371633, 'reg_lambda': 0.02359419029958609}\n",
      "Best score: 0.8779759051545074\n"
     ]
    }
   ],
   "source": [
    "params = RunOptimization(train)"
   ]
  },
  {
   "cell_type": "code",
   "execution_count": 22,
   "metadata": {},
   "outputs": [
    {
     "name": "stdout",
     "output_type": "stream",
     "text": [
      "{'objective': 'multi:softmax', 'num_parallel_tree': 8, 'n_estimators': 247, 'max_depth': 4, 'learning_rate': 0.02292936372515384, 'subsample': 0.7164979719952946, 'colsample_bytree': 0.5466771646314869, 'reg_alpha': 0.04044679018371633, 'reg_lambda': 0.02359419029958609}\n"
     ]
    }
   ],
   "source": [
    "print(params)"
   ]
  },
  {
   "cell_type": "code",
   "execution_count": 24,
   "metadata": {},
   "outputs": [
    {
     "name": "stdout",
     "output_type": "stream",
     "text": [
      "0.9138755980861244\n"
     ]
    }
   ],
   "source": [
    "# 使用最优参数训练模型\n",
    "# 由于选择了 SoftMax 因此先补充一个参数，这个参数默认里面没有，但是是必须的\n",
    "params['num_class'] = 2\n",
    "\n",
    "model = XGBClassifier(**params)\n",
    "model.fit(train.drop(columns=['Survived']), train['Survived'])\n",
    "res_pro = model.predict(test)\n",
    "\n",
    "# 查看结果(假设 gender_submission.csv 是 Kaggle 提供的答案)\n",
    "ans = pd.read_csv('data/gender_submission.csv')\n",
    "ac_pro = (ans['Survived'] == res_pro).sum()/len(res_pro)\n",
    "print(ac_pro)"
   ]
  },
  {
   "cell_type": "code",
   "execution_count": 25,
   "metadata": {},
   "outputs": [
    {
     "name": "stdout",
     "output_type": "stream",
     "text": [
      "0.8277511961722488\n"
     ]
    }
   ],
   "source": [
    "# 使用原始模型查看结果\n",
    "org_model = XGBClassifier()\n",
    "org_model.fit(train.drop(columns=['Survived']), train['Survived'])\n",
    "res_org = org_model.predict(test)\n",
    "\n",
    "# 查看结果(假设 gender_submission.csv 是 Kaggle 提供的答案)\n",
    "ans = pd.read_csv('data/gender_submission.csv')\n",
    "ac_org = (ans['Survived'] == res_org).sum()/len(res_org)\n",
    "print(ac_org)\n"
   ]
  },
  {
   "cell_type": "code",
   "execution_count": 26,
   "metadata": {},
   "outputs": [
    {
     "name": "stdout",
     "output_type": "stream",
     "text": [
      "The increase is 10.40%\n"
     ]
    }
   ],
   "source": [
    "increase = (ac_pro - ac_org) / ac_org * 100\n",
    "print(f\"The increase is {increase:.2f}%\")\n"
   ]
  },
  {
   "cell_type": "markdown",
   "metadata": {},
   "source": [
    "可以看到，有接近10%左右的提升，这是非常夸张的"
   ]
  },
  {
   "cell_type": "code",
   "execution_count": 27,
   "metadata": {},
   "outputs": [
    {
     "name": "stdout",
     "output_type": "stream",
     "text": [
      "OK!\n"
     ]
    }
   ],
   "source": [
    "# 保存下来提交看看\n",
    "submission = pd.DataFrame({\n",
    "    'PassengerId': ans['PassengerId'],\n",
    "    'Survived': res_pro\n",
    "})\n",
    "\n",
    "submission.to_csv('data/ProSubmission.csv', index=False)\n",
    "print(\"OK!\")"
   ]
  },
  {
   "cell_type": "code",
   "execution_count": 28,
   "metadata": {},
   "outputs": [
    {
     "name": "stdout",
     "output_type": "stream",
     "text": [
      "OK!\n"
     ]
    }
   ],
   "source": [
    "submission = pd.DataFrame({\n",
    "    'PassengerId': ans['PassengerId'],\n",
    "    'Survived': res_org\n",
    "})\n",
    "\n",
    "submission.to_csv('data/OrgSubmission.csv', index=False)\n",
    "print(\"OK!\")"
   ]
  },
  {
   "cell_type": "markdown",
   "metadata": {},
   "source": [
    "在 Kaggle 上提交结果如下：\n",
    "\n",
    "ProSubmission.csv ---> 0.77751\n",
    "\n",
    "OrgSubmission.csv ---> 0.76076\n",
    "\n",
    "在 Kaggle 分数上，提升有 1% 左右。"
   ]
  }
 ],
 "metadata": {
  "kernelspec": {
   "display_name": "Kaggle",
   "language": "python",
   "name": "python3"
  },
  "language_info": {
   "codemirror_mode": {
    "name": "ipython",
    "version": 3
   },
   "file_extension": ".py",
   "mimetype": "text/x-python",
   "name": "python",
   "nbconvert_exporter": "python",
   "pygments_lexer": "ipython3",
   "version": "3.11.7"
  }
 },
 "nbformat": 4,
 "nbformat_minor": 2
}
